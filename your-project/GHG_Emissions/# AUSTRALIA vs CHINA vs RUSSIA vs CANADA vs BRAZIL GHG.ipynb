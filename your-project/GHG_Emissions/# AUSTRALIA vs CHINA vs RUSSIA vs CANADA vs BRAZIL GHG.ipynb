{
 "cells": [
  {
   "cell_type": "markdown",
   "metadata": {},
   "source": [
    "# AUSTRALIA vs CHINA vs RUSSIA vs CANADA vs BRAZIL GHG"
   ]
  },
  {
   "cell_type": "code",
   "execution_count": 13,
   "metadata": {},
   "outputs": [],
   "source": [
    "#Import Librarys \n",
    "\n",
    "import pandas as pd\n",
    "from scipy import stats\n",
    "import seaborn as sns\n",
    "import matplotlib\n",
    "import matplotlib.pyplot as plt"
   ]
  },
  {
   "cell_type": "code",
   "execution_count": 14,
   "metadata": {},
   "outputs": [],
   "source": [
    "ghg_emissions = pd.read_excel('/Users/Shiva/Documents/DATA_ANALYTICS/Week6/Project/DataSets/caitcountryghgemissions-alldata.xlsx', header=[0,1] , sheet_name='GHG Emissions')"
   ]
  },
  {
   "cell_type": "code",
   "execution_count": 15,
   "metadata": {},
   "outputs": [
    {
     "data": {
      "text/plain": [
       "array(['Afghanistan', 'Albania', 'Algeria', 'Angola', 'Antigua & Barbuda',\n",
       "       'Argentina', 'Armenia', 'Australia', 'Austria', 'Azerbaijan',\n",
       "       'Bahamas, The', 'Bahrain', 'Bangladesh', 'Barbados', 'Belarus',\n",
       "       'Belgium', 'Belize', 'Benin', 'Bhutan', 'Bolivia',\n",
       "       'Bosnia & Herzegovina', 'Botswana', 'Brazil', 'Brunei', 'Bulgaria',\n",
       "       'Burkina Faso', 'Burundi', 'Cambodia', 'Cameroon', 'Canada',\n",
       "       'Cape Verde', 'Central African Republic', 'Chad', 'Chile', 'China',\n",
       "       'Colombia', 'Comoros', 'Congo, Dem. Rep.', 'Congo, Rep.',\n",
       "       'Cook Islands', 'Costa Rica', \"Cote d'Ivoire\", 'Croatia', 'Cuba',\n",
       "       'Cyprus', 'Czech Republic', 'Denmark', 'Djibouti', 'Dominica',\n",
       "       'Dominican Republic', 'Ecuador', 'Egypt', 'El Salvador',\n",
       "       'Equatorial Guinea', 'Eritrea', 'Estonia', 'Ethiopia',\n",
       "       'European Union (15)', 'European Union (28)', 'Fiji', 'Finland',\n",
       "       'France', 'Gabon', 'Gambia, The', 'Georgia', 'Germany', 'Ghana',\n",
       "       'Greece', 'Grenada', 'Guatemala', 'Guinea', 'Guinea-Bissau',\n",
       "       'Guyana', 'Haiti', 'Honduras', 'Hungary', 'Iceland', 'India',\n",
       "       'Indonesia', 'Iran', 'Iraq', 'Ireland', 'Israel', 'Italy',\n",
       "       'Jamaica', 'Japan', 'Jordan', 'Kazakhstan', 'Kenya', 'Kiribati',\n",
       "       'Korea, Dem. Rep. (North)', 'Korea, Rep. (South)', 'Kuwait',\n",
       "       'Kyrgyzstan', 'Laos', 'Latvia', 'Lebanon', 'Lesotho', 'Liberia',\n",
       "       'Libya', 'Lithuania', 'Luxembourg', 'Macedonia, FYR', 'Madagascar',\n",
       "       'Malawi', 'Malaysia', 'Maldives', 'Mali', 'Malta', 'Mauritania',\n",
       "       'Mauritius', 'Mexico', 'Moldova', 'Mongolia', 'Montenegro',\n",
       "       'Morocco', 'Mozambique', 'Myanmar', 'Namibia', 'Nauru', 'Nepal',\n",
       "       'Netherlands', 'New Zealand', 'Nicaragua', 'Niger', 'Nigeria',\n",
       "       'Niue', 'Norway', 'Oman', 'Pakistan', 'Palau', 'Panama',\n",
       "       'Papua New Guinea', 'Paraguay', 'Peru', 'Philippines', 'Poland',\n",
       "       'Portugal', 'Qatar', 'Romania', 'Russian Federation', 'Rwanda',\n",
       "       'Saint Kitts & Nevis', 'Saint Lucia', 'Saint Vincent & Grenadines',\n",
       "       'Samoa', 'Sao Tome & Principe', 'Saudi Arabia', 'Senegal',\n",
       "       'Serbia', 'Seychelles', 'Sierra Leone', 'Singapore', 'Slovakia',\n",
       "       'Slovenia', 'Solomon Islands', 'South Africa', 'Spain',\n",
       "       'Sri Lanka', 'Sudan', 'Suriname', 'Swaziland', 'Sweden',\n",
       "       'Switzerland', 'Syria', 'Tajikistan', 'Tanzania', 'Thailand',\n",
       "       'Togo', 'Tonga', 'Trinidad & Tobago', 'Tunisia', 'Turkey',\n",
       "       'Turkmenistan', 'Uganda', 'Ukraine', 'United Arab Emirates',\n",
       "       'United Kingdom', 'United States', 'Uruguay', 'Uzbekistan',\n",
       "       'Vanuatu', 'Venezuela', 'Vietnam', 'World', 'Yemen', 'Zambia',\n",
       "       'Zimbabwe'], dtype=object)"
      ]
     },
     "execution_count": 15,
     "metadata": {},
     "output_type": "execute_result"
    }
   ],
   "source": [
    "ghg_emissions[('Unnamed: 0_level_0','Country')].unique()\n"
   ]
  },
  {
   "cell_type": "code",
   "execution_count": 16,
   "metadata": {},
   "outputs": [],
   "source": [
    "#Cleaning\n",
    "\n",
    "ghg_emissions_filt = ghg_emissions.loc[ghg_emissions[('Unnamed: 0_level_0','Country')].isin(['Canada','Australia','Russian Federation','China', 'Brazil'])].reset_index()\n",
    "\n",
    "ghg_emissions_filt.columns = ghg_emissions_filt.columns.droplevel()\n",
    "\n",
    "ghg_emissions_filt.drop(columns = '', inplace = True)"
   ]
  },
  {
   "cell_type": "code",
   "execution_count": 17,
   "metadata": {},
   "outputs": [],
   "source": [
    "ghg_year = ghg_emissions_filt[['Country','Year','Total GHG Emissions Including Land-Use Change and Forestry (MtCO₂e‍)']]\n"
   ]
  },
  {
   "cell_type": "code",
   "execution_count": 18,
   "metadata": {},
   "outputs": [],
   "source": [
    "### PLot This vs YEAR \n",
    "\n",
    "ds_pivot = ghg_year.pivot(index='Year', columns='Country', values='Total GHG Emissions Including Land-Use Change and Forestry (MtCO₂e‍)')\n",
    "\n",
    "ds_pivot.columns = [x for x in ds_pivot.columns.values]\n",
    "\n",
    "## FILL WITH THE MEAN\n",
    "ds_pivot.fillna(ds_pivot['Russian Federation'].mean(), inplace = True)"
   ]
  },
  {
   "cell_type": "code",
   "execution_count": 24,
   "metadata": {},
   "outputs": [
    {
     "data": {
      "text/plain": [
       "Australia              580.502165\n",
       "Brazil                1765.632752\n",
       "Canada                 788.377822\n",
       "China                 5809.622030\n",
       "Russian Federation    2252.184271\n",
       "dtype: float64"
      ]
     },
     "execution_count": 24,
     "metadata": {},
     "output_type": "execute_result"
    }
   ],
   "source": [
    "ds_pivot.mean()"
   ]
  },
  {
   "cell_type": "code",
   "execution_count": 19,
   "metadata": {
    "scrolled": true
   },
   "outputs": [
    {
     "data": {
      "text/html": [
       "<div>\n",
       "<style scoped>\n",
       "    .dataframe tbody tr th:only-of-type {\n",
       "        vertical-align: middle;\n",
       "    }\n",
       "\n",
       "    .dataframe tbody tr th {\n",
       "        vertical-align: top;\n",
       "    }\n",
       "\n",
       "    .dataframe thead th {\n",
       "        text-align: right;\n",
       "    }\n",
       "</style>\n",
       "<table border=\"1\" class=\"dataframe\">\n",
       "  <thead>\n",
       "    <tr style=\"text-align: right;\">\n",
       "      <th></th>\n",
       "      <th>Australia</th>\n",
       "      <th>Brazil</th>\n",
       "      <th>Canada</th>\n",
       "      <th>China</th>\n",
       "      <th>Russian Federation</th>\n",
       "    </tr>\n",
       "  </thead>\n",
       "  <tbody>\n",
       "    <tr>\n",
       "      <td>count</td>\n",
       "      <td>23.000000</td>\n",
       "      <td>23.000000</td>\n",
       "      <td>23.000000</td>\n",
       "      <td>23.000000</td>\n",
       "      <td>23.000000</td>\n",
       "    </tr>\n",
       "    <tr>\n",
       "      <td>mean</td>\n",
       "      <td>580.502165</td>\n",
       "      <td>1765.632752</td>\n",
       "      <td>788.377822</td>\n",
       "      <td>5809.622030</td>\n",
       "      <td>2252.184271</td>\n",
       "    </tr>\n",
       "    <tr>\n",
       "      <td>std</td>\n",
       "      <td>63.292907</td>\n",
       "      <td>139.569926</td>\n",
       "      <td>134.124996</td>\n",
       "      <td>2469.035906</td>\n",
       "      <td>198.651253</td>\n",
       "    </tr>\n",
       "    <tr>\n",
       "      <td>min</td>\n",
       "      <td>495.611600</td>\n",
       "      <td>1606.594600</td>\n",
       "      <td>602.979800</td>\n",
       "      <td>3158.949200</td>\n",
       "      <td>2007.726800</td>\n",
       "    </tr>\n",
       "    <tr>\n",
       "      <td>25%</td>\n",
       "      <td>512.384150</td>\n",
       "      <td>1661.636400</td>\n",
       "      <td>667.937150</td>\n",
       "      <td>4051.379200</td>\n",
       "      <td>2137.681600</td>\n",
       "    </tr>\n",
       "    <tr>\n",
       "      <td>50%</td>\n",
       "      <td>597.587800</td>\n",
       "      <td>1731.284800</td>\n",
       "      <td>796.019300</td>\n",
       "      <td>4504.520800</td>\n",
       "      <td>2213.304400</td>\n",
       "    </tr>\n",
       "    <tr>\n",
       "      <td>75%</td>\n",
       "      <td>627.510400</td>\n",
       "      <td>1801.064000</td>\n",
       "      <td>867.570500</td>\n",
       "      <td>7938.454200</td>\n",
       "      <td>2259.003700</td>\n",
       "    </tr>\n",
       "    <tr>\n",
       "      <td>max</td>\n",
       "      <td>685.052900</td>\n",
       "      <td>2056.990300</td>\n",
       "      <td>1002.776000</td>\n",
       "      <td>10684.286600</td>\n",
       "      <td>2831.496300</td>\n",
       "    </tr>\n",
       "  </tbody>\n",
       "</table>\n",
       "</div>"
      ],
      "text/plain": [
       "        Australia       Brazil       Canada         China  Russian Federation\n",
       "count   23.000000    23.000000    23.000000     23.000000           23.000000\n",
       "mean   580.502165  1765.632752   788.377822   5809.622030         2252.184271\n",
       "std     63.292907   139.569926   134.124996   2469.035906          198.651253\n",
       "min    495.611600  1606.594600   602.979800   3158.949200         2007.726800\n",
       "25%    512.384150  1661.636400   667.937150   4051.379200         2137.681600\n",
       "50%    597.587800  1731.284800   796.019300   4504.520800         2213.304400\n",
       "75%    627.510400  1801.064000   867.570500   7938.454200         2259.003700\n",
       "max    685.052900  2056.990300  1002.776000  10684.286600         2831.496300"
      ]
     },
     "execution_count": 19,
     "metadata": {},
     "output_type": "execute_result"
    }
   ],
   "source": [
    "ds_pivot.describe()"
   ]
  },
  {
   "cell_type": "code",
   "execution_count": 8,
   "metadata": {
    "scrolled": true
   },
   "outputs": [
    {
     "data": {
      "text/plain": [
       "array([[<matplotlib.axes._subplots.AxesSubplot object at 0x1a23066550>,\n",
       "        <matplotlib.axes._subplots.AxesSubplot object at 0x1a243520d0>],\n",
       "       [<matplotlib.axes._subplots.AxesSubplot object at 0x1a24261910>,\n",
       "        <matplotlib.axes._subplots.AxesSubplot object at 0x1a2433b190>],\n",
       "       [<matplotlib.axes._subplots.AxesSubplot object at 0x1a230e1590>,\n",
       "        <matplotlib.axes._subplots.AxesSubplot object at 0x1a230e15d0>]],\n",
       "      dtype=object)"
      ]
     },
     "execution_count": 8,
     "metadata": {},
     "output_type": "execute_result"
    },
    {
     "data": {
      "image/png": "[encoded data removed]",
      "text/plain": [
       "<Figure size 432x288 with 6 Axes>"
      ]
     },
     "metadata": {
      "needs_background": "light"
     },
     "output_type": "display_data"
    }
   ],
   "source": [
    "ds_pivot.hist()"
   ]
  },
  {
   "cell_type": "markdown",
   "metadata": {},
   "source": [
    "# Statistical analysis "
   ]
  },
  {
   "cell_type": "code",
   "execution_count": 9,
   "metadata": {},
   "outputs": [
    {
     "data": {
      "text/plain": [
       "F_onewayResult(statistic=82.97934394296489, pvalue=2.566125614929961e-32)"
      ]
     },
     "execution_count": 9,
     "metadata": {},
     "output_type": "execute_result"
    }
   ],
   "source": [
    "### ANOVA analyse on variance \n",
    "\n",
    "#H0 : There is no difference between GHG emissions on ITALY AND PORTUGAL \n",
    "\n",
    "#significance level = 0.05\n",
    "\n",
    "\n",
    "stats.f_oneway(ds_pivot['Canada'], ds_pivot['Australia'],ds_pivot['Russian Federation'],ds_pivot['China'], ds_pivot['Brazil'])\n",
    "\n"
   ]
  },
  {
   "cell_type": "code",
   "execution_count": 10,
   "metadata": {},
   "outputs": [
    {
     "data": {
      "text/plain": [
       "'\\nThere is a difference in the total emission of ghg from the different coutries. Reject null hypotesis. \\n\\n'"
      ]
     },
     "execution_count": 10,
     "metadata": {},
     "output_type": "execute_result"
    }
   ],
   "source": [
    "\"\"\"\n",
    "There is a difference in the total emission of ghg from the different coutries. Reject null hypotesis. \n",
    "\n",
    "\"\"\""
   ]
  },
  {
   "cell_type": "code",
   "execution_count": 11,
   "metadata": {},
   "outputs": [
    {
     "data": {
      "text/plain": [
       "<matplotlib.axes._subplots.AxesSubplot at 0x1a24646910>"
      ]
     },
     "execution_count": 11,
     "metadata": {},
     "output_type": "execute_result"
    },
    {
     "data": {
      "image/png": "[encoded data removed]",
      "text/plain": [
       "<Figure size 432x288 with 1 Axes>"
      ]
     },
     "metadata": {
      "needs_background": "light"
     },
     "output_type": "display_data"
    }
   ],
   "source": [
    "sns.boxplot(data = ds_pivot)"
   ]
  },
  {
   "cell_type": "code",
   "execution_count": 12,
   "metadata": {},
   "outputs": [
    {
     "data": {
      "text/plain": [
       "<matplotlib.axes._subplots.AxesSubplot at 0x1a244e9290>"
      ]
     },
     "execution_count": 12,
     "metadata": {},
     "output_type": "execute_result"
    },
    {
     "data": {
      "image/png": "[encoded data removed]",
      "text/plain": [
       "<Figure size 432x288 with 1 Axes>"
      ]
     },
     "metadata": {
      "needs_background": "light"
     },
     "output_type": "display_data"
    }
   ],
   "source": [
    "sns.boxplot(data = ds_pivot.drop(columns = 'China'))"
   ]
  },
  {
   "cell_type": "code",
   "execution_count": 25,
   "metadata": {},
   "outputs": [
    {
     "data": {
      "image/png": "[encoded data removed]",
      "text/plain": [
       "<Figure size 1440x720 with 1 Axes>"
      ]
     },
     "metadata": {
      "needs_background": "light"
     },
     "output_type": "display_data"
    }
   ],
   "source": [
    "# your code here\n",
    "fig, axs = plt.subplots(1, 1, figsize=(20, 10))\n",
    "\n",
    "plt.plot(ds_pivot['Canada'], label='Canada')\n",
    "plt.plot(ds_pivot['Australia'], label='Australia')\n",
    "plt.plot(ds_pivot['China'], label='China') \n",
    "plt.plot(ds_pivot['Russian Federation'], label='Russia')\n",
    "plt.plot(ds_pivot['Brazil'], label='Brazil') \n",
    "\n",
    "#plt.xscale('linear')  # to linear scale uncomment this one! and the on bellow and coment the two lines up\n",
    "#plt.yscale('linear')\n",
    "\n",
    "\n",
    "plt.xlabel('Year')\n",
    "plt.ylabel('Total GHG Emissions')\n",
    "\n",
    "plt.title(\"GHG Emissions between 1990 and 2012\")\n",
    "plt.legend()\n",
    "plt.show()\n",
    "\n"
   ]
  },
  {
   "cell_type": "code",
   "execution_count": 26,
   "metadata": {},
   "outputs": [
    {
     "data": {
      "text/html": [
       "<div>\n",
       "<style scoped>\n",
       "    .dataframe tbody tr th:only-of-type {\n",
       "        vertical-align: middle;\n",
       "    }\n",
       "\n",
       "    .dataframe tbody tr th {\n",
       "        vertical-align: top;\n",
       "    }\n",
       "\n",
       "    .dataframe thead th {\n",
       "        text-align: right;\n",
       "    }\n",
       "</style>\n",
       "<table border=\"1\" class=\"dataframe\">\n",
       "  <thead>\n",
       "    <tr style=\"text-align: right;\">\n",
       "      <th></th>\n",
       "      <th>Australia</th>\n",
       "      <th>Brazil</th>\n",
       "      <th>Canada</th>\n",
       "      <th>China</th>\n",
       "      <th>Russian Federation</th>\n",
       "    </tr>\n",
       "  </thead>\n",
       "  <tbody>\n",
       "    <tr>\n",
       "      <td>Australia</td>\n",
       "      <td>1.000000</td>\n",
       "      <td>0.556142</td>\n",
       "      <td>0.807227</td>\n",
       "      <td>0.769785</td>\n",
       "      <td>-0.645026</td>\n",
       "    </tr>\n",
       "    <tr>\n",
       "      <td>Brazil</td>\n",
       "      <td>0.556142</td>\n",
       "      <td>1.000000</td>\n",
       "      <td>0.795447</td>\n",
       "      <td>0.159888</td>\n",
       "      <td>-0.348803</td>\n",
       "    </tr>\n",
       "    <tr>\n",
       "      <td>Canada</td>\n",
       "      <td>0.807227</td>\n",
       "      <td>0.795447</td>\n",
       "      <td>1.000000</td>\n",
       "      <td>0.569863</td>\n",
       "      <td>-0.608873</td>\n",
       "    </tr>\n",
       "    <tr>\n",
       "      <td>China</td>\n",
       "      <td>0.769785</td>\n",
       "      <td>0.159888</td>\n",
       "      <td>0.569863</td>\n",
       "      <td>1.000000</td>\n",
       "      <td>-0.515832</td>\n",
       "    </tr>\n",
       "    <tr>\n",
       "      <td>Russian Federation</td>\n",
       "      <td>-0.645026</td>\n",
       "      <td>-0.348803</td>\n",
       "      <td>-0.608873</td>\n",
       "      <td>-0.515832</td>\n",
       "      <td>1.000000</td>\n",
       "    </tr>\n",
       "  </tbody>\n",
       "</table>\n",
       "</div>"
      ],
      "text/plain": [
       "                    Australia    Brazil    Canada     China  \\\n",
       "Australia            1.000000  0.556142  0.807227  0.769785   \n",
       "Brazil               0.556142  1.000000  0.795447  0.159888   \n",
       "Canada               0.807227  0.795447  1.000000  0.569863   \n",
       "China                0.769785  0.159888  0.569863  1.000000   \n",
       "Russian Federation  -0.645026 -0.348803 -0.608873 -0.515832   \n",
       "\n",
       "                    Russian Federation  \n",
       "Australia                    -0.645026  \n",
       "Brazil                       -0.348803  \n",
       "Canada                       -0.608873  \n",
       "China                        -0.515832  \n",
       "Russian Federation            1.000000  "
      ]
     },
     "execution_count": 26,
     "metadata": {},
     "output_type": "execute_result"
    }
   ],
   "source": [
    "ds_pivot.corr()"
   ]
  },
  {
   "cell_type": "code",
   "execution_count": null,
   "metadata": {},
   "outputs": [],
   "source": [
    "## China is an interesting case as you can see It looks like it follows an increase throught the years "
   ]
  }
 ],
 "metadata": {
  "kernelspec": {
   "display_name": "Python 3",
   "language": "python",
   "name": "python3"
  },
  "language_info": {
   "codemirror_mode": {
    "name": "ipython",
    "version": 3
   },
   "file_extension": ".py",
   "mimetype": "text/x-python",
   "name": "python",
   "nbconvert_exporter": "python",
   "pygments_lexer": "ipython3",
   "version": "3.7.4"
  }
 },
 "nbformat": 4,
 "nbformat_minor": 2
}
