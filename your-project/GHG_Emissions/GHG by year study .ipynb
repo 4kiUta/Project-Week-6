{
 "cells": [
  {
   "cell_type": "code",
   "execution_count": 1,
   "metadata": {},
   "outputs": [],
   "source": [
    "import pandas as pd\n",
    "from scipy.stats import f_oneway\n",
    "import seaborn as sns"
   ]
  },
  {
   "cell_type": "code",
   "execution_count": 104,
   "metadata": {},
   "outputs": [],
   "source": [
    "ghg_year = pd.read_csv('GHG_by_year.csv')\n",
    "ghg_year.drop(columns = 'Unnamed: 0', inplace = True)"
   ]
  },
  {
   "cell_type": "code",
   "execution_count": 105,
   "metadata": {
    "scrolled": false
   },
   "outputs": [
    {
     "data": {
      "text/html": [
       "<div>\n",
       "<style scoped>\n",
       "    .dataframe tbody tr th:only-of-type {\n",
       "        vertical-align: middle;\n",
       "    }\n",
       "\n",
       "    .dataframe tbody tr th {\n",
       "        vertical-align: top;\n",
       "    }\n",
       "\n",
       "    .dataframe thead th {\n",
       "        text-align: right;\n",
       "    }\n",
       "</style>\n",
       "<table border=\"1\" class=\"dataframe\">\n",
       "  <thead>\n",
       "    <tr style=\"text-align: right;\">\n",
       "      <th></th>\n",
       "      <th>Country</th>\n",
       "      <th>Year</th>\n",
       "      <th>Total GHG Emissions Including Land-Use Change and Forestry (MtCO₂e‍)</th>\n",
       "    </tr>\n",
       "  </thead>\n",
       "  <tbody>\n",
       "    <tr>\n",
       "      <td>0</td>\n",
       "      <td>Australia</td>\n",
       "      <td>1990</td>\n",
       "      <td>503.7846</td>\n",
       "    </tr>\n",
       "    <tr>\n",
       "      <td>1</td>\n",
       "      <td>Australia</td>\n",
       "      <td>1991</td>\n",
       "      <td>495.9580</td>\n",
       "    </tr>\n",
       "    <tr>\n",
       "      <td>2</td>\n",
       "      <td>Australia</td>\n",
       "      <td>1992</td>\n",
       "      <td>495.6116</td>\n",
       "    </tr>\n",
       "    <tr>\n",
       "      <td>3</td>\n",
       "      <td>Australia</td>\n",
       "      <td>1993</td>\n",
       "      <td>497.0890</td>\n",
       "    </tr>\n",
       "    <tr>\n",
       "      <td>4</td>\n",
       "      <td>Australia</td>\n",
       "      <td>1994</td>\n",
       "      <td>504.3664</td>\n",
       "    </tr>\n",
       "  </tbody>\n",
       "</table>\n",
       "</div>"
      ],
      "text/plain": [
       "     Country  Year  \\\n",
       "0  Australia  1990   \n",
       "1  Australia  1991   \n",
       "2  Australia  1992   \n",
       "3  Australia  1993   \n",
       "4  Australia  1994   \n",
       "\n",
       "   Total GHG Emissions Including Land-Use Change and Forestry (MtCO₂e‍)  \n",
       "0                                           503.7846                     \n",
       "1                                           495.9580                     \n",
       "2                                           495.6116                     \n",
       "3                                           497.0890                     \n",
       "4                                           504.3664                     "
      ]
     },
     "execution_count": 105,
     "metadata": {},
     "output_type": "execute_result"
    }
   ],
   "source": [
    "ghg_year.head()"
   ]
  },
  {
   "cell_type": "code",
   "execution_count": 106,
   "metadata": {
    "scrolled": true
   },
   "outputs": [
    {
     "data": {
      "text/html": [
       "<div>\n",
       "<style scoped>\n",
       "    .dataframe tbody tr th:only-of-type {\n",
       "        vertical-align: middle;\n",
       "    }\n",
       "\n",
       "    .dataframe tbody tr th {\n",
       "        vertical-align: top;\n",
       "    }\n",
       "\n",
       "    .dataframe thead th {\n",
       "        text-align: right;\n",
       "    }\n",
       "</style>\n",
       "<table border=\"1\" class=\"dataframe\">\n",
       "  <thead>\n",
       "    <tr style=\"text-align: right;\">\n",
       "      <th></th>\n",
       "      <th>Australia</th>\n",
       "      <th>Canada</th>\n",
       "      <th>China</th>\n",
       "      <th>Costa Rica</th>\n",
       "      <th>Egypt</th>\n",
       "      <th>France</th>\n",
       "      <th>India</th>\n",
       "      <th>Nigeria</th>\n",
       "      <th>South Africa</th>\n",
       "      <th>Ukraine</th>\n",
       "    </tr>\n",
       "    <tr>\n",
       "      <th>Year</th>\n",
       "      <th></th>\n",
       "      <th></th>\n",
       "      <th></th>\n",
       "      <th></th>\n",
       "      <th></th>\n",
       "      <th></th>\n",
       "      <th></th>\n",
       "      <th></th>\n",
       "      <th></th>\n",
       "      <th></th>\n",
       "    </tr>\n",
       "  </thead>\n",
       "  <tbody>\n",
       "    <tr>\n",
       "      <td>1990</td>\n",
       "      <td>503.7846</td>\n",
       "      <td>681.9262</td>\n",
       "      <td>3218.4454</td>\n",
       "      <td>14.4554</td>\n",
       "      <td>123.7066</td>\n",
       "      <td>496.8353</td>\n",
       "      <td>1212.0206</td>\n",
       "      <td>385.7587</td>\n",
       "      <td>321.7321</td>\n",
       "      <td>NaN</td>\n",
       "    </tr>\n",
       "    <tr>\n",
       "      <td>1991</td>\n",
       "      <td>495.9580</td>\n",
       "      <td>602.9798</td>\n",
       "      <td>3158.9492</td>\n",
       "      <td>14.7035</td>\n",
       "      <td>127.7401</td>\n",
       "      <td>505.8161</td>\n",
       "      <td>1248.4708</td>\n",
       "      <td>391.7885</td>\n",
       "      <td>315.7579</td>\n",
       "      <td>NaN</td>\n",
       "    </tr>\n",
       "    <tr>\n",
       "      <td>1992</td>\n",
       "      <td>495.6116</td>\n",
       "      <td>617.5682</td>\n",
       "      <td>3306.6532</td>\n",
       "      <td>15.7955</td>\n",
       "      <td>131.9641</td>\n",
       "      <td>488.3584</td>\n",
       "      <td>1287.5430</td>\n",
       "      <td>403.3725</td>\n",
       "      <td>311.3492</td>\n",
       "      <td>751.2620</td>\n",
       "    </tr>\n",
       "    <tr>\n",
       "      <td>1993</td>\n",
       "      <td>497.0890</td>\n",
       "      <td>620.0533</td>\n",
       "      <td>3525.6052</td>\n",
       "      <td>15.8532</td>\n",
       "      <td>133.6810</td>\n",
       "      <td>468.1697</td>\n",
       "      <td>1319.9309</td>\n",
       "      <td>402.9772</td>\n",
       "      <td>318.8895</td>\n",
       "      <td>602.6213</td>\n",
       "    </tr>\n",
       "    <tr>\n",
       "      <td>1994</td>\n",
       "      <td>504.3664</td>\n",
       "      <td>640.2493</td>\n",
       "      <td>3691.7186</td>\n",
       "      <td>16.2640</td>\n",
       "      <td>127.9705</td>\n",
       "      <td>465.4080</td>\n",
       "      <td>1370.3745</td>\n",
       "      <td>400.6896</td>\n",
       "      <td>325.0547</td>\n",
       "      <td>510.9934</td>\n",
       "    </tr>\n",
       "  </tbody>\n",
       "</table>\n",
       "</div>"
      ],
      "text/plain": [
       "      Australia    Canada      China  Costa Rica     Egypt    France  \\\n",
       "Year                                                                   \n",
       "1990   503.7846  681.9262  3218.4454     14.4554  123.7066  496.8353   \n",
       "1991   495.9580  602.9798  3158.9492     14.7035  127.7401  505.8161   \n",
       "1992   495.6116  617.5682  3306.6532     15.7955  131.9641  488.3584   \n",
       "1993   497.0890  620.0533  3525.6052     15.8532  133.6810  468.1697   \n",
       "1994   504.3664  640.2493  3691.7186     16.2640  127.9705  465.4080   \n",
       "\n",
       "          India   Nigeria  South Africa   Ukraine  \n",
       "Year                                               \n",
       "1990  1212.0206  385.7587      321.7321       NaN  \n",
       "1991  1248.4708  391.7885      315.7579       NaN  \n",
       "1992  1287.5430  403.3725      311.3492  751.2620  \n",
       "1993  1319.9309  402.9772      318.8895  602.6213  \n",
       "1994  1370.3745  400.6896      325.0547  510.9934  "
      ]
     },
     "execution_count": 106,
     "metadata": {},
     "output_type": "execute_result"
    }
   ],
   "source": [
    "ds_pivot = ghg_year.pivot(index='Year', columns='Country', values='Total GHG Emissions Including Land-Use Change and Forestry (MtCO₂e‍)')\n",
    "\n",
    "ds_pivot.columns = [x for x in ds_pivot.columns.values]\n",
    "ds_pivot.head()"
   ]
  },
  {
   "cell_type": "code",
   "execution_count": 107,
   "metadata": {},
   "outputs": [],
   "source": [
    "ds_pivot.fillna(0, inplace = True)"
   ]
  },
  {
   "cell_type": "code",
   "execution_count": 108,
   "metadata": {},
   "outputs": [
    {
     "data": {
      "text/plain": [
       "F_onewayResult(statistic=107.57177748071125, pvalue=1.708568386547803e-75)"
      ]
     },
     "execution_count": 108,
     "metadata": {},
     "output_type": "execute_result"
    }
   ],
   "source": [
    "### There is diference between the Country Total GHG Emissions \n",
    "\n",
    "# NUll Hypotesis : Do difference existe between the GHG Emissions between countries \n",
    "# significance leve = 0.05\n",
    "\n",
    "f_oneway(ds_pivot['Australia'],ds_pivot['Canada'],ds_pivot['China'],ds_pivot['Costa Rica'],ds_pivot['Egypt'],ds_pivot['France'],ds_pivot['India'], ds_pivot['Nigeria'],ds_pivot['South Africa'], ds_pivot['Ukraine'])\n",
    "\n"
   ]
  },
  {
   "cell_type": "code",
   "execution_count": null,
   "metadata": {},
   "outputs": [],
   "source": []
  },
  {
   "cell_type": "code",
   "execution_count": 109,
   "metadata": {},
   "outputs": [
    {
     "data": {
      "text/html": [
       "<div>\n",
       "<style scoped>\n",
       "    .dataframe tbody tr th:only-of-type {\n",
       "        vertical-align: middle;\n",
       "    }\n",
       "\n",
       "    .dataframe tbody tr th {\n",
       "        vertical-align: top;\n",
       "    }\n",
       "\n",
       "    .dataframe thead th {\n",
       "        text-align: right;\n",
       "    }\n",
       "</style>\n",
       "<table border=\"1\" class=\"dataframe\">\n",
       "  <thead>\n",
       "    <tr style=\"text-align: right;\">\n",
       "      <th></th>\n",
       "      <th>Australia</th>\n",
       "      <th>Canada</th>\n",
       "      <th>China</th>\n",
       "      <th>Costa Rica</th>\n",
       "      <th>Egypt</th>\n",
       "      <th>France</th>\n",
       "      <th>India</th>\n",
       "      <th>Nigeria</th>\n",
       "      <th>South Africa</th>\n",
       "      <th>Ukraine</th>\n",
       "    </tr>\n",
       "  </thead>\n",
       "  <tbody>\n",
       "    <tr>\n",
       "      <td>count</td>\n",
       "      <td>23.000000</td>\n",
       "      <td>23.000000</td>\n",
       "      <td>23.000000</td>\n",
       "      <td>23.000000</td>\n",
       "      <td>23.000000</td>\n",
       "      <td>23.000000</td>\n",
       "      <td>23.000000</td>\n",
       "      <td>23.000000</td>\n",
       "      <td>23.000000</td>\n",
       "      <td>23.000000</td>\n",
       "    </tr>\n",
       "    <tr>\n",
       "      <td>mean</td>\n",
       "      <td>580.502165</td>\n",
       "      <td>788.377822</td>\n",
       "      <td>5809.622030</td>\n",
       "      <td>9.530283</td>\n",
       "      <td>194.149570</td>\n",
       "      <td>466.916157</td>\n",
       "      <td>1832.358609</td>\n",
       "      <td>411.394017</td>\n",
       "      <td>385.152452</td>\n",
       "      <td>384.111404</td>\n",
       "    </tr>\n",
       "    <tr>\n",
       "      <td>std</td>\n",
       "      <td>63.292907</td>\n",
       "      <td>134.124996</td>\n",
       "      <td>2469.035906</td>\n",
       "      <td>6.211007</td>\n",
       "      <td>57.718641</td>\n",
       "      <td>25.861304</td>\n",
       "      <td>505.110782</td>\n",
       "      <td>93.642055</td>\n",
       "      <td>51.545769</td>\n",
       "      <td>152.460064</td>\n",
       "    </tr>\n",
       "    <tr>\n",
       "      <td>min</td>\n",
       "      <td>495.611600</td>\n",
       "      <td>602.979800</td>\n",
       "      <td>3158.949200</td>\n",
       "      <td>0.000000</td>\n",
       "      <td>123.706600</td>\n",
       "      <td>426.341900</td>\n",
       "      <td>1212.020600</td>\n",
       "      <td>0.000000</td>\n",
       "      <td>311.349200</td>\n",
       "      <td>0.000000</td>\n",
       "    </tr>\n",
       "    <tr>\n",
       "      <td>25%</td>\n",
       "      <td>512.384150</td>\n",
       "      <td>667.937150</td>\n",
       "      <td>4051.379200</td>\n",
       "      <td>4.002900</td>\n",
       "      <td>139.925700</td>\n",
       "      <td>440.193350</td>\n",
       "      <td>1470.267900</td>\n",
       "      <td>403.270650</td>\n",
       "      <td>349.381300</td>\n",
       "      <td>364.794600</td>\n",
       "    </tr>\n",
       "    <tr>\n",
       "      <td>50%</td>\n",
       "      <td>597.587800</td>\n",
       "      <td>796.019300</td>\n",
       "      <td>4504.520800</td>\n",
       "      <td>5.711200</td>\n",
       "      <td>181.348200</td>\n",
       "      <td>469.982700</td>\n",
       "      <td>1669.641400</td>\n",
       "      <td>420.355700</td>\n",
       "      <td>371.350500</td>\n",
       "      <td>389.639900</td>\n",
       "    </tr>\n",
       "    <tr>\n",
       "      <td>75%</td>\n",
       "      <td>627.510400</td>\n",
       "      <td>867.570500</td>\n",
       "      <td>7938.454200</td>\n",
       "      <td>15.824350</td>\n",
       "      <td>247.865100</td>\n",
       "      <td>488.633550</td>\n",
       "      <td>2150.335550</td>\n",
       "      <td>455.284950</td>\n",
       "      <td>425.324350</td>\n",
       "      <td>408.569250</td>\n",
       "    </tr>\n",
       "    <tr>\n",
       "      <td>max</td>\n",
       "      <td>685.052900</td>\n",
       "      <td>1002.776000</td>\n",
       "      <td>10684.286600</td>\n",
       "      <td>16.467600</td>\n",
       "      <td>287.973400</td>\n",
       "      <td>505.816100</td>\n",
       "      <td>2887.083900</td>\n",
       "      <td>474.676400</td>\n",
       "      <td>467.942100</td>\n",
       "      <td>751.262000</td>\n",
       "    </tr>\n",
       "  </tbody>\n",
       "</table>\n",
       "</div>"
      ],
      "text/plain": [
       "        Australia       Canada         China  Costa Rica       Egypt  \\\n",
       "count   23.000000    23.000000     23.000000   23.000000   23.000000   \n",
       "mean   580.502165   788.377822   5809.622030    9.530283  194.149570   \n",
       "std     63.292907   134.124996   2469.035906    6.211007   57.718641   \n",
       "min    495.611600   602.979800   3158.949200    0.000000  123.706600   \n",
       "25%    512.384150   667.937150   4051.379200    4.002900  139.925700   \n",
       "50%    597.587800   796.019300   4504.520800    5.711200  181.348200   \n",
       "75%    627.510400   867.570500   7938.454200   15.824350  247.865100   \n",
       "max    685.052900  1002.776000  10684.286600   16.467600  287.973400   \n",
       "\n",
       "           France        India     Nigeria  South Africa     Ukraine  \n",
       "count   23.000000    23.000000   23.000000     23.000000   23.000000  \n",
       "mean   466.916157  1832.358609  411.394017    385.152452  384.111404  \n",
       "std     25.861304   505.110782   93.642055     51.545769  152.460064  \n",
       "min    426.341900  1212.020600    0.000000    311.349200    0.000000  \n",
       "25%    440.193350  1470.267900  403.270650    349.381300  364.794600  \n",
       "50%    469.982700  1669.641400  420.355700    371.350500  389.639900  \n",
       "75%    488.633550  2150.335550  455.284950    425.324350  408.569250  \n",
       "max    505.816100  2887.083900  474.676400    467.942100  751.262000  "
      ]
     },
     "execution_count": 109,
     "metadata": {},
     "output_type": "execute_result"
    }
   ],
   "source": [
    "ds_pivot.describe()"
   ]
  },
  {
   "cell_type": "code",
   "execution_count": 110,
   "metadata": {},
   "outputs": [],
   "source": [
    "ds_pivot.drop(columns = ['China', 'India', 'Canada'], inplace = True)"
   ]
  },
  {
   "cell_type": "code",
   "execution_count": 111,
   "metadata": {},
   "outputs": [
    {
     "data": {
      "text/plain": [
       "<matplotlib.axes._subplots.AxesSubplot at 0x1a281dced0>"
      ]
     },
     "execution_count": 111,
     "metadata": {},
     "output_type": "execute_result"
    },
    {
     "data": {
      "image/png": "[encoded data removed]",
      "text/plain": [
       "<Figure size 432x288 with 1 Axes>"
      ]
     },
     "metadata": {
      "needs_background": "light"
     },
     "output_type": "display_data"
    }
   ],
   "source": [
    "ds_pivot.boxplot()"
   ]
  },
  {
   "cell_type": "code",
   "execution_count": 113,
   "metadata": {},
   "outputs": [
    {
     "data": {
      "text/plain": [
       "F_onewayResult(statistic=133.8884591388777, pvalue=1.721122503971197e-58)"
      ]
     },
     "execution_count": 113,
     "metadata": {},
     "output_type": "execute_result"
    }
   ],
   "source": [
    "f_oneway(ds_pivot['Australia'],ds_pivot['Costa Rica'],ds_pivot['Egypt'],ds_pivot['France'], ds_pivot['Nigeria'],ds_pivot['South Africa'], ds_pivot['Ukraine'])\n",
    "\n"
   ]
  },
  {
   "cell_type": "code",
   "execution_count": null,
   "metadata": {},
   "outputs": [],
   "source": []
  },
  {
   "cell_type": "code",
   "execution_count": null,
   "metadata": {},
   "outputs": [],
   "source": []
  },
  {
   "cell_type": "code",
   "execution_count": null,
   "metadata": {},
   "outputs": [],
   "source": []
  },
  {
   "cell_type": "code",
   "execution_count": null,
   "metadata": {},
   "outputs": [],
   "source": []
  },
  {
   "cell_type": "code",
   "execution_count": null,
   "metadata": {},
   "outputs": [],
   "source": []
  },
  {
   "cell_type": "code",
   "execution_count": null,
   "metadata": {},
   "outputs": [],
   "source": []
  },
  {
   "cell_type": "code",
   "execution_count": null,
   "metadata": {},
   "outputs": [],
   "source": []
  },
  {
   "cell_type": "code",
   "execution_count": 20,
   "metadata": {},
   "outputs": [],
   "source": [
    "import matplotlib.pyplot as plt"
   ]
  },
  {
   "cell_type": "code",
   "execution_count": 82,
   "metadata": {},
   "outputs": [
    {
     "data": {
      "text/html": [
       "<div>\n",
       "<style scoped>\n",
       "    .dataframe tbody tr th:only-of-type {\n",
       "        vertical-align: middle;\n",
       "    }\n",
       "\n",
       "    .dataframe tbody tr th {\n",
       "        vertical-align: top;\n",
       "    }\n",
       "\n",
       "    .dataframe thead th {\n",
       "        text-align: right;\n",
       "    }\n",
       "</style>\n",
       "<table border=\"1\" class=\"dataframe\">\n",
       "  <thead>\n",
       "    <tr style=\"text-align: right;\">\n",
       "      <th></th>\n",
       "      <th>Country</th>\n",
       "      <th>Year</th>\n",
       "      <th>Total GHG Emissions Including Land-Use Change and Forestry (MtCO₂e‍)</th>\n",
       "    </tr>\n",
       "  </thead>\n",
       "  <tbody>\n",
       "    <tr>\n",
       "      <td>0</td>\n",
       "      <td>Australia</td>\n",
       "      <td>1990</td>\n",
       "      <td>503.7846</td>\n",
       "    </tr>\n",
       "    <tr>\n",
       "      <td>1</td>\n",
       "      <td>Australia</td>\n",
       "      <td>1991</td>\n",
       "      <td>495.9580</td>\n",
       "    </tr>\n",
       "    <tr>\n",
       "      <td>2</td>\n",
       "      <td>Australia</td>\n",
       "      <td>1992</td>\n",
       "      <td>495.6116</td>\n",
       "    </tr>\n",
       "    <tr>\n",
       "      <td>3</td>\n",
       "      <td>Australia</td>\n",
       "      <td>1993</td>\n",
       "      <td>497.0890</td>\n",
       "    </tr>\n",
       "    <tr>\n",
       "      <td>4</td>\n",
       "      <td>Australia</td>\n",
       "      <td>1994</td>\n",
       "      <td>504.3664</td>\n",
       "    </tr>\n",
       "    <tr>\n",
       "      <td>...</td>\n",
       "      <td>...</td>\n",
       "      <td>...</td>\n",
       "      <td>...</td>\n",
       "    </tr>\n",
       "    <tr>\n",
       "      <td>221</td>\n",
       "      <td>Ukraine</td>\n",
       "      <td>2008</td>\n",
       "      <td>393.4963</td>\n",
       "    </tr>\n",
       "    <tr>\n",
       "      <td>222</td>\n",
       "      <td>Ukraine</td>\n",
       "      <td>2009</td>\n",
       "      <td>336.1029</td>\n",
       "    </tr>\n",
       "    <tr>\n",
       "      <td>223</td>\n",
       "      <td>Ukraine</td>\n",
       "      <td>2010</td>\n",
       "      <td>355.3193</td>\n",
       "    </tr>\n",
       "    <tr>\n",
       "      <td>224</td>\n",
       "      <td>Ukraine</td>\n",
       "      <td>2011</td>\n",
       "      <td>371.4599</td>\n",
       "    </tr>\n",
       "    <tr>\n",
       "      <td>225</td>\n",
       "      <td>Ukraine</td>\n",
       "      <td>2012</td>\n",
       "      <td>366.3097</td>\n",
       "    </tr>\n",
       "  </tbody>\n",
       "</table>\n",
       "<p>226 rows × 3 columns</p>\n",
       "</div>"
      ],
      "text/plain": [
       "       Country  Year  \\\n",
       "0    Australia  1990   \n",
       "1    Australia  1991   \n",
       "2    Australia  1992   \n",
       "3    Australia  1993   \n",
       "4    Australia  1994   \n",
       "..         ...   ...   \n",
       "221    Ukraine  2008   \n",
       "222    Ukraine  2009   \n",
       "223    Ukraine  2010   \n",
       "224    Ukraine  2011   \n",
       "225    Ukraine  2012   \n",
       "\n",
       "     Total GHG Emissions Including Land-Use Change and Forestry (MtCO₂e‍)  \n",
       "0                                             503.7846                     \n",
       "1                                             495.9580                     \n",
       "2                                             495.6116                     \n",
       "3                                             497.0890                     \n",
       "4                                             504.3664                     \n",
       "..                                                 ...                     \n",
       "221                                           393.4963                     \n",
       "222                                           336.1029                     \n",
       "223                                           355.3193                     \n",
       "224                                           371.4599                     \n",
       "225                                           366.3097                     \n",
       "\n",
       "[226 rows x 3 columns]"
      ]
     },
     "execution_count": 82,
     "metadata": {},
     "output_type": "execute_result"
    }
   ],
   "source": [
    "ghg_year"
   ]
  },
  {
   "cell_type": "code",
   "execution_count": 116,
   "metadata": {},
   "outputs": [
    {
     "data": {
      "text/plain": [
       "Country\n",
       "Australia       AxesSubplot(0.125,0.125;0.775x0.755)\n",
       "Canada          AxesSubplot(0.125,0.125;0.775x0.755)\n",
       "China           AxesSubplot(0.125,0.125;0.775x0.755)\n",
       "Costa Rica      AxesSubplot(0.125,0.125;0.775x0.755)\n",
       "Egypt           AxesSubplot(0.125,0.125;0.775x0.755)\n",
       "France          AxesSubplot(0.125,0.125;0.775x0.755)\n",
       "India           AxesSubplot(0.125,0.125;0.775x0.755)\n",
       "Nigeria         AxesSubplot(0.125,0.125;0.775x0.755)\n",
       "South Africa    AxesSubplot(0.125,0.125;0.775x0.755)\n",
       "Ukraine         AxesSubplot(0.125,0.125;0.775x0.755)\n",
       "dtype: object"
      ]
     },
     "execution_count": 116,
     "metadata": {},
     "output_type": "execute_result"
    },
    {
     "data": {
      "image/png": "[encoded data removed]",
      "text/plain": [
       "<Figure size 432x288 with 1 Axes>"
      ]
     },
     "metadata": {
      "needs_background": "light"
     },
     "output_type": "display_data"
    }
   ],
   "source": [
    "fig, ax = plt.subplots()\n",
    "\n",
    "ghg_year.groupby('Country').plot(x='Year', y='Total GHG Emissions Including Land-Use Change and Forestry (MtCO₂e‍)', ax=ax, legend=False)\n",
    "\n"
   ]
  },
  {
   "cell_type": "code",
   "execution_count": 70,
   "metadata": {},
   "outputs": [
    {
     "data": {
      "text/html": [
       "<div>\n",
       "<style scoped>\n",
       "    .dataframe tbody tr th:only-of-type {\n",
       "        vertical-align: middle;\n",
       "    }\n",
       "\n",
       "    .dataframe tbody tr th {\n",
       "        vertical-align: top;\n",
       "    }\n",
       "\n",
       "    .dataframe thead th {\n",
       "        text-align: right;\n",
       "    }\n",
       "</style>\n",
       "<table border=\"1\" class=\"dataframe\">\n",
       "  <thead>\n",
       "    <tr style=\"text-align: right;\">\n",
       "      <th></th>\n",
       "      <th>Country</th>\n",
       "      <th>Year</th>\n",
       "      <th>Total GHG Emissions Including Land-Use Change and Forestry (MtCO₂e‍)</th>\n",
       "    </tr>\n",
       "  </thead>\n",
       "  <tbody>\n",
       "    <tr>\n",
       "      <td>0</td>\n",
       "      <td>Australia</td>\n",
       "      <td>1990</td>\n",
       "      <td>503.7846</td>\n",
       "    </tr>\n",
       "    <tr>\n",
       "      <td>1</td>\n",
       "      <td>Australia</td>\n",
       "      <td>1991</td>\n",
       "      <td>495.9580</td>\n",
       "    </tr>\n",
       "    <tr>\n",
       "      <td>2</td>\n",
       "      <td>Australia</td>\n",
       "      <td>1992</td>\n",
       "      <td>495.6116</td>\n",
       "    </tr>\n",
       "    <tr>\n",
       "      <td>3</td>\n",
       "      <td>Australia</td>\n",
       "      <td>1993</td>\n",
       "      <td>497.0890</td>\n",
       "    </tr>\n",
       "    <tr>\n",
       "      <td>4</td>\n",
       "      <td>Australia</td>\n",
       "      <td>1994</td>\n",
       "      <td>504.3664</td>\n",
       "    </tr>\n",
       "    <tr>\n",
       "      <td>...</td>\n",
       "      <td>...</td>\n",
       "      <td>...</td>\n",
       "      <td>...</td>\n",
       "    </tr>\n",
       "    <tr>\n",
       "      <td>221</td>\n",
       "      <td>Ukraine</td>\n",
       "      <td>2008</td>\n",
       "      <td>393.4963</td>\n",
       "    </tr>\n",
       "    <tr>\n",
       "      <td>222</td>\n",
       "      <td>Ukraine</td>\n",
       "      <td>2009</td>\n",
       "      <td>336.1029</td>\n",
       "    </tr>\n",
       "    <tr>\n",
       "      <td>223</td>\n",
       "      <td>Ukraine</td>\n",
       "      <td>2010</td>\n",
       "      <td>355.3193</td>\n",
       "    </tr>\n",
       "    <tr>\n",
       "      <td>224</td>\n",
       "      <td>Ukraine</td>\n",
       "      <td>2011</td>\n",
       "      <td>371.4599</td>\n",
       "    </tr>\n",
       "    <tr>\n",
       "      <td>225</td>\n",
       "      <td>Ukraine</td>\n",
       "      <td>2012</td>\n",
       "      <td>366.3097</td>\n",
       "    </tr>\n",
       "  </tbody>\n",
       "</table>\n",
       "<p>226 rows × 3 columns</p>\n",
       "</div>"
      ],
      "text/plain": [
       "       Country  Year  \\\n",
       "0    Australia  1990   \n",
       "1    Australia  1991   \n",
       "2    Australia  1992   \n",
       "3    Australia  1993   \n",
       "4    Australia  1994   \n",
       "..         ...   ...   \n",
       "221    Ukraine  2008   \n",
       "222    Ukraine  2009   \n",
       "223    Ukraine  2010   \n",
       "224    Ukraine  2011   \n",
       "225    Ukraine  2012   \n",
       "\n",
       "     Total GHG Emissions Including Land-Use Change and Forestry (MtCO₂e‍)  \n",
       "0                                             503.7846                     \n",
       "1                                             495.9580                     \n",
       "2                                             495.6116                     \n",
       "3                                             497.0890                     \n",
       "4                                             504.3664                     \n",
       "..                                                 ...                     \n",
       "221                                           393.4963                     \n",
       "222                                           336.1029                     \n",
       "223                                           355.3193                     \n",
       "224                                           371.4599                     \n",
       "225                                           366.3097                     \n",
       "\n",
       "[226 rows x 3 columns]"
      ]
     },
     "execution_count": 70,
     "metadata": {},
     "output_type": "execute_result"
    }
   ],
   "source": [
    "ghg_year"
   ]
  },
  {
   "cell_type": "code",
   "execution_count": 73,
   "metadata": {},
   "outputs": [
    {
     "data": {
      "text/plain": [
       "<matplotlib.collections.PathCollection at 0x1a2785fb50>"
      ]
     },
     "execution_count": 73,
     "metadata": {},
     "output_type": "execute_result"
    },
    {
     "data": {
      "image/png": "[encoded data removed]",
      "text/plain": [
       "<Figure size 432x288 with 1 Axes>"
      ]
     },
     "metadata": {
      "needs_background": "light"
     },
     "output_type": "display_data"
    }
   ],
   "source": [
    "plt.scatter(ghg_year['Year'],ghg_year['Total GHG Emissions Including Land-Use Change and Forestry (MtCO₂e‍)'])"
   ]
  },
  {
   "cell_type": "code",
   "execution_count": null,
   "metadata": {},
   "outputs": [],
   "source": []
  }
 ],
 "metadata": {
  "kernelspec": {
   "display_name": "Python 3",
   "language": "python",
   "name": "python3"
  },
  "language_info": {
   "codemirror_mode": {
    "name": "ipython",
    "version": 3
   },
   "file_extension": ".py",
   "mimetype": "text/x-python",
   "name": "python",
   "nbconvert_exporter": "python",
   "pygments_lexer": "ipython3",
   "version": "3.7.4"
  }
 },
 "nbformat": 4,
 "nbformat_minor": 2
}
