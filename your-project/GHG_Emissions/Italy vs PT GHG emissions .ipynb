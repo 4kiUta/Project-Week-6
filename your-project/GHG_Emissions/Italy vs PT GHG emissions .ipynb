{
 "cells": [
  {
   "cell_type": "markdown",
   "metadata": {},
   "source": [
    "# Italy vs Port GHG"
   ]
  },
  {
   "cell_type": "code",
   "execution_count": 12,
   "metadata": {},
   "outputs": [],
   "source": [
    "#Import Librarys \n",
    "\n",
    "import pandas as pd\n",
    "from scipy import stats\n",
    "import seaborn as sns\n",
    "import matplotlib\n",
    "import matplotlib.pyplot as plt"
   ]
  },
  {
   "cell_type": "code",
   "execution_count": 13,
   "metadata": {},
   "outputs": [],
   "source": [
    "ghg_emissions = pd.read_excel('/Users/Shiva/Documents/DATA_ANALYTICS/Week6/Project/DataSets/caitcountryghgemissions-alldata.xlsx', header=[0,1] , sheet_name='GHG Emissions')"
   ]
  },
  {
   "cell_type": "code",
   "execution_count": 14,
   "metadata": {},
   "outputs": [],
   "source": [
    "#Cleaning\n",
    "\n",
    "ghg_emissions_filt = ghg_emissions.loc[ghg_emissions[('Unnamed: 0_level_0','Country')].isin(['Portugal','Italy'])].reset_index()\n",
    "\n",
    "ghg_emissions_filt.columns = ghg_emissions_filt.columns.droplevel()\n",
    "\n",
    "ghg_emissions_filt.drop(columns = '', inplace = True)"
   ]
  },
  {
   "cell_type": "code",
   "execution_count": 15,
   "metadata": {},
   "outputs": [],
   "source": [
    "ghg_year = ghg_emissions_filt[['Country','Year','Total GHG Emissions Including Land-Use Change and Forestry (MtCO₂e‍)']]\n"
   ]
  },
  {
   "cell_type": "code",
   "execution_count": 16,
   "metadata": {},
   "outputs": [
    {
     "data": {
      "text/html": [
       "<div>\n",
       "<style scoped>\n",
       "    .dataframe tbody tr th:only-of-type {\n",
       "        vertical-align: middle;\n",
       "    }\n",
       "\n",
       "    .dataframe tbody tr th {\n",
       "        vertical-align: top;\n",
       "    }\n",
       "\n",
       "    .dataframe thead th {\n",
       "        text-align: right;\n",
       "    }\n",
       "</style>\n",
       "<table border=\"1\" class=\"dataframe\">\n",
       "  <thead>\n",
       "    <tr style=\"text-align: right;\">\n",
       "      <th></th>\n",
       "      <th>Italy</th>\n",
       "      <th>Portugal</th>\n",
       "    </tr>\n",
       "    <tr>\n",
       "      <th>Year</th>\n",
       "      <th></th>\n",
       "      <th></th>\n",
       "    </tr>\n",
       "  </thead>\n",
       "  <tbody>\n",
       "    <tr>\n",
       "      <td>1990</td>\n",
       "      <td>482.9378</td>\n",
       "      <td>59.5063</td>\n",
       "    </tr>\n",
       "    <tr>\n",
       "      <td>1991</td>\n",
       "      <td>466.9702</td>\n",
       "      <td>60.1275</td>\n",
       "    </tr>\n",
       "    <tr>\n",
       "      <td>1992</td>\n",
       "      <td>465.9221</td>\n",
       "      <td>64.1066</td>\n",
       "    </tr>\n",
       "    <tr>\n",
       "      <td>1993</td>\n",
       "      <td>456.9903</td>\n",
       "      <td>62.9316</td>\n",
       "    </tr>\n",
       "    <tr>\n",
       "      <td>1994</td>\n",
       "      <td>452.4753</td>\n",
       "      <td>64.8830</td>\n",
       "    </tr>\n",
       "    <tr>\n",
       "      <td>1995</td>\n",
       "      <td>474.4137</td>\n",
       "      <td>68.5708</td>\n",
       "    </tr>\n",
       "    <tr>\n",
       "      <td>1996</td>\n",
       "      <td>473.1699</td>\n",
       "      <td>67.1225</td>\n",
       "    </tr>\n",
       "    <tr>\n",
       "      <td>1997</td>\n",
       "      <td>477.5349</td>\n",
       "      <td>69.5131</td>\n",
       "    </tr>\n",
       "    <tr>\n",
       "      <td>1998</td>\n",
       "      <td>489.8145</td>\n",
       "      <td>74.3907</td>\n",
       "    </tr>\n",
       "    <tr>\n",
       "      <td>1999</td>\n",
       "      <td>495.3601</td>\n",
       "      <td>81.0998</td>\n",
       "    </tr>\n",
       "    <tr>\n",
       "      <td>2000</td>\n",
       "      <td>498.1515</td>\n",
       "      <td>80.5727</td>\n",
       "    </tr>\n",
       "    <tr>\n",
       "      <td>2001</td>\n",
       "      <td>499.7558</td>\n",
       "      <td>80.1101</td>\n",
       "    </tr>\n",
       "    <tr>\n",
       "      <td>2002</td>\n",
       "      <td>508.3466</td>\n",
       "      <td>84.4435</td>\n",
       "    </tr>\n",
       "    <tr>\n",
       "      <td>2003</td>\n",
       "      <td>524.4881</td>\n",
       "      <td>79.6687</td>\n",
       "    </tr>\n",
       "    <tr>\n",
       "      <td>2004</td>\n",
       "      <td>532.2937</td>\n",
       "      <td>81.0711</td>\n",
       "    </tr>\n",
       "    <tr>\n",
       "      <td>2005</td>\n",
       "      <td>530.3298</td>\n",
       "      <td>84.6542</td>\n",
       "    </tr>\n",
       "    <tr>\n",
       "      <td>2006</td>\n",
       "      <td>526.8758</td>\n",
       "      <td>77.8848</td>\n",
       "    </tr>\n",
       "    <tr>\n",
       "      <td>2007</td>\n",
       "      <td>517.4707</td>\n",
       "      <td>78.2863</td>\n",
       "    </tr>\n",
       "    <tr>\n",
       "      <td>2008</td>\n",
       "      <td>500.3491</td>\n",
       "      <td>73.2721</td>\n",
       "    </tr>\n",
       "    <tr>\n",
       "      <td>2009</td>\n",
       "      <td>448.2676</td>\n",
       "      <td>72.6625</td>\n",
       "    </tr>\n",
       "    <tr>\n",
       "      <td>2010</td>\n",
       "      <td>454.4015</td>\n",
       "      <td>67.4627</td>\n",
       "    </tr>\n",
       "    <tr>\n",
       "      <td>2011</td>\n",
       "      <td>447.2984</td>\n",
       "      <td>67.1001</td>\n",
       "    </tr>\n",
       "    <tr>\n",
       "      <td>2012</td>\n",
       "      <td>431.7653</td>\n",
       "      <td>68.4781</td>\n",
       "    </tr>\n",
       "  </tbody>\n",
       "</table>\n",
       "</div>"
      ],
      "text/plain": [
       "         Italy  Portugal\n",
       "Year                    \n",
       "1990  482.9378   59.5063\n",
       "1991  466.9702   60.1275\n",
       "1992  465.9221   64.1066\n",
       "1993  456.9903   62.9316\n",
       "1994  452.4753   64.8830\n",
       "1995  474.4137   68.5708\n",
       "1996  473.1699   67.1225\n",
       "1997  477.5349   69.5131\n",
       "1998  489.8145   74.3907\n",
       "1999  495.3601   81.0998\n",
       "2000  498.1515   80.5727\n",
       "2001  499.7558   80.1101\n",
       "2002  508.3466   84.4435\n",
       "2003  524.4881   79.6687\n",
       "2004  532.2937   81.0711\n",
       "2005  530.3298   84.6542\n",
       "2006  526.8758   77.8848\n",
       "2007  517.4707   78.2863\n",
       "2008  500.3491   73.2721\n",
       "2009  448.2676   72.6625\n",
       "2010  454.4015   67.4627\n",
       "2011  447.2984   67.1001\n",
       "2012  431.7653   68.4781"
      ]
     },
     "execution_count": 16,
     "metadata": {},
     "output_type": "execute_result"
    }
   ],
   "source": [
    "### PLot This vs YEAR \n",
    "\n",
    "ds_pivot = ghg_year.pivot(index='Year', columns='Country', values='Total GHG Emissions Including Land-Use Change and Forestry (MtCO₂e‍)')\n",
    "\n",
    "ds_pivot.columns = [x for x in ds_pivot.columns.values]\n",
    "ds_pivot"
   ]
  },
  {
   "cell_type": "code",
   "execution_count": 17,
   "metadata": {
    "scrolled": true
   },
   "outputs": [
    {
     "data": {
      "text/html": [
       "<div>\n",
       "<style scoped>\n",
       "    .dataframe tbody tr th:only-of-type {\n",
       "        vertical-align: middle;\n",
       "    }\n",
       "\n",
       "    .dataframe tbody tr th {\n",
       "        vertical-align: top;\n",
       "    }\n",
       "\n",
       "    .dataframe thead th {\n",
       "        text-align: right;\n",
       "    }\n",
       "</style>\n",
       "<table border=\"1\" class=\"dataframe\">\n",
       "  <thead>\n",
       "    <tr style=\"text-align: right;\">\n",
       "      <th></th>\n",
       "      <th>Italy</th>\n",
       "      <th>Portugal</th>\n",
       "    </tr>\n",
       "  </thead>\n",
       "  <tbody>\n",
       "    <tr>\n",
       "      <td>count</td>\n",
       "      <td>23.000000</td>\n",
       "      <td>23.000000</td>\n",
       "    </tr>\n",
       "    <tr>\n",
       "      <td>mean</td>\n",
       "      <td>485.016639</td>\n",
       "      <td>72.518209</td>\n",
       "    </tr>\n",
       "    <tr>\n",
       "      <td>std</td>\n",
       "      <td>29.653227</td>\n",
       "      <td>7.818554</td>\n",
       "    </tr>\n",
       "    <tr>\n",
       "      <td>min</td>\n",
       "      <td>431.765300</td>\n",
       "      <td>59.506300</td>\n",
       "    </tr>\n",
       "    <tr>\n",
       "      <td>25%</td>\n",
       "      <td>461.456200</td>\n",
       "      <td>67.111300</td>\n",
       "    </tr>\n",
       "    <tr>\n",
       "      <td>50%</td>\n",
       "      <td>482.937800</td>\n",
       "      <td>72.662500</td>\n",
       "    </tr>\n",
       "    <tr>\n",
       "      <td>75%</td>\n",
       "      <td>504.347850</td>\n",
       "      <td>79.889400</td>\n",
       "    </tr>\n",
       "    <tr>\n",
       "      <td>max</td>\n",
       "      <td>532.293700</td>\n",
       "      <td>84.654200</td>\n",
       "    </tr>\n",
       "  </tbody>\n",
       "</table>\n",
       "</div>"
      ],
      "text/plain": [
       "            Italy   Portugal\n",
       "count   23.000000  23.000000\n",
       "mean   485.016639  72.518209\n",
       "std     29.653227   7.818554\n",
       "min    431.765300  59.506300\n",
       "25%    461.456200  67.111300\n",
       "50%    482.937800  72.662500\n",
       "75%    504.347850  79.889400\n",
       "max    532.293700  84.654200"
      ]
     },
     "execution_count": 17,
     "metadata": {},
     "output_type": "execute_result"
    }
   ],
   "source": [
    "ds_pivot.describe()"
   ]
  },
  {
   "cell_type": "code",
   "execution_count": 18,
   "metadata": {},
   "outputs": [
    {
     "data": {
      "text/plain": [
       "<matplotlib.axes._subplots.AxesSubplot at 0x1a25b87b90>"
      ]
     },
     "execution_count": 18,
     "metadata": {},
     "output_type": "execute_result"
    },
    {
     "data": {
      "image/png": "[encoded data removed]",
      "text/plain": [
       "<Figure size 432x288 with 1 Axes>"
      ]
     },
     "metadata": {
      "needs_background": "light"
     },
     "output_type": "display_data"
    }
   ],
   "source": [
    "ds_pivot['Italy'].hist()"
   ]
  },
  {
   "cell_type": "markdown",
   "metadata": {},
   "source": [
    "# Statistical analysis "
   ]
  },
  {
   "cell_type": "code",
   "execution_count": 19,
   "metadata": {
    "scrolled": true
   },
   "outputs": [
    {
     "data": {
      "text/plain": [
       "Ttest_indResult(statistic=64.50892891778126, pvalue=3.251802946870698e-45)"
      ]
     },
     "execution_count": 19,
     "metadata": {},
     "output_type": "execute_result"
    }
   ],
   "source": [
    "### T independent test\n",
    "\n",
    "## H0 : There is no difference between GHG emissions on ITALY AND PORTUGAL \n",
    "\n",
    "#significance level = 0.05\n",
    "\n",
    "\n",
    "stats.ttest_ind(ds_pivot['Italy'], ds_pivot['Portugal'])"
   ]
  },
  {
   "cell_type": "code",
   "execution_count": 20,
   "metadata": {},
   "outputs": [
    {
     "data": {
      "text/plain": [
       "'\\nThere is a difference between the two \\n\\n'"
      ]
     },
     "execution_count": 20,
     "metadata": {},
     "output_type": "execute_result"
    }
   ],
   "source": [
    "\"\"\"\n",
    "There is a difference between the two \n",
    "\n",
    "\"\"\""
   ]
  },
  {
   "cell_type": "code",
   "execution_count": 21,
   "metadata": {},
   "outputs": [
    {
     "data": {
      "text/plain": [
       "F_onewayResult(statistic=4161.401910119429, pvalue=3.251802946869453e-45)"
      ]
     },
     "execution_count": 21,
     "metadata": {},
     "output_type": "execute_result"
    }
   ],
   "source": [
    "### ANOVA analyse on variance \n",
    "\n",
    "#H0 : There is no difference between GHG emissions on ITALY AND PORTUGAL \n",
    "\n",
    "#significance level = 0.05\n",
    "\n",
    "stats.f_oneway(ds_pivot['Italy'], ds_pivot['Portugal'])"
   ]
  },
  {
   "cell_type": "code",
   "execution_count": 22,
   "metadata": {},
   "outputs": [
    {
     "data": {
      "text/plain": [
       "'\\nThere is a difference between the two. Reject null hypotesis. \\n\\n'"
      ]
     },
     "execution_count": 22,
     "metadata": {},
     "output_type": "execute_result"
    }
   ],
   "source": [
    "\"\"\"\n",
    "There is a difference between the two. Reject null hypotesis. \n",
    "\n",
    "\"\"\""
   ]
  },
  {
   "cell_type": "code",
   "execution_count": 23,
   "metadata": {},
   "outputs": [
    {
     "data": {
      "text/plain": [
       "<matplotlib.axes._subplots.AxesSubplot at 0x1a26649750>"
      ]
     },
     "execution_count": 23,
     "metadata": {},
     "output_type": "execute_result"
    },
    {
     "data": {
      "image/png": "[encoded data removed]",
      "text/plain": [
       "<Figure size 432x288 with 1 Axes>"
      ]
     },
     "metadata": {
      "needs_background": "light"
     },
     "output_type": "display_data"
    }
   ],
   "source": [
    "sns.boxplot(data = ds_pivot)"
   ]
  },
  {
   "cell_type": "code",
   "execution_count": 28,
   "metadata": {},
   "outputs": [
    {
     "data": {
      "image/png": "[encoded data removed]",
      "text/plain": [
       "<Figure size 1440x720 with 1 Axes>"
      ]
     },
     "metadata": {
      "needs_background": "light"
     },
     "output_type": "display_data"
    }
   ],
   "source": [
    "# your code here\n",
    "fig, axs = plt.subplots(1, 1, figsize=(20, 10))\n",
    "\n",
    "plt.plot(ds_pivot['Italy'], label='Italy')\n",
    "plt.plot(ds_pivot['Portugal'], label='Portugal')   ## TODO: show the multiple plots on the same plot!\n",
    "\n",
    "#plt.xscale('linear')  # to linear scale uncomment this one! and the on bellow and coment the two lines up\n",
    "#plt.yscale('linear')\n",
    "\n",
    "\n",
    "plt.xlabel('Year')\n",
    "plt.ylabel('Total GHG Emissions')\n",
    "\n",
    "plt.title(\"GHG Emissions between 1990 and 2012\")\n",
    "plt.legend()\n",
    "plt.savefig('GHG_Emissions_pt_It.png')\n",
    "\n"
   ]
  },
  {
   "cell_type": "code",
   "execution_count": 25,
   "metadata": {},
   "outputs": [
    {
     "data": {
      "text/html": [
       "<div>\n",
       "<style scoped>\n",
       "    .dataframe tbody tr th:only-of-type {\n",
       "        vertical-align: middle;\n",
       "    }\n",
       "\n",
       "    .dataframe tbody tr th {\n",
       "        vertical-align: top;\n",
       "    }\n",
       "\n",
       "    .dataframe thead th {\n",
       "        text-align: right;\n",
       "    }\n",
       "</style>\n",
       "<table border=\"1\" class=\"dataframe\">\n",
       "  <thead>\n",
       "    <tr style=\"text-align: right;\">\n",
       "      <th></th>\n",
       "      <th>Italy</th>\n",
       "      <th>Portugal</th>\n",
       "    </tr>\n",
       "  </thead>\n",
       "  <tbody>\n",
       "    <tr>\n",
       "      <td>Italy</td>\n",
       "      <td>1.000000</td>\n",
       "      <td>0.760541</td>\n",
       "    </tr>\n",
       "    <tr>\n",
       "      <td>Portugal</td>\n",
       "      <td>0.760541</td>\n",
       "      <td>1.000000</td>\n",
       "    </tr>\n",
       "  </tbody>\n",
       "</table>\n",
       "</div>"
      ],
      "text/plain": [
       "             Italy  Portugal\n",
       "Italy     1.000000  0.760541\n",
       "Portugal  0.760541  1.000000"
      ]
     },
     "execution_count": 25,
     "metadata": {},
     "output_type": "execute_result"
    }
   ],
   "source": [
    "ds_pivot.corr()"
   ]
  },
  {
   "cell_type": "code",
   "execution_count": null,
   "metadata": {},
   "outputs": [],
   "source": []
  }
 ],
 "metadata": {
  "kernelspec": {
   "display_name": "Python 3",
   "language": "python",
   "name": "python3"
  },
  "language_info": {
   "codemirror_mode": {
    "name": "ipython",
    "version": 3
   },
   "file_extension": ".py",
   "mimetype": "text/x-python",
   "name": "python",
   "nbconvert_exporter": "python",
   "pygments_lexer": "ipython3",
   "version": "3.7.4"
  }
 },
 "nbformat": 4,
 "nbformat_minor": 2
}
