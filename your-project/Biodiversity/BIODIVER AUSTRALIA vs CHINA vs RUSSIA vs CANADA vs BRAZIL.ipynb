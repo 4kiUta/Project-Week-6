{
 "cells": [
  {
   "cell_type": "code",
   "execution_count": 79,
   "metadata": {},
   "outputs": [],
   "source": [
    "import numpy as np\n",
    "import matplotlib\n",
    "import matplotlib.pyplot as plt\n",
    "import pandas as pd\n",
    "from scipy import stats\n",
    "from scipy.stats import f_oneway, ttest_ind, chisquare\n",
    "import matplotlib\n",
    "import matplotlib.pyplot as plt\n",
    "from scipy.stats import norm\n",
    "\n",
    "\n"
   ]
  },
  {
   "cell_type": "markdown",
   "metadata": {},
   "source": [
    "# PORTUGAL BIODIVERSITY "
   ]
  },
  {
   "cell_type": "code",
   "execution_count": 73,
   "metadata": {},
   "outputs": [],
   "source": [
    "data_aus = pd.read_csv('/Users/Shiva/Documents/DATA_ANALYTICS/Week6/Project/DataSets/australi_bio.csv')\n",
    "data_bra = pd.read_csv('/Users/Shiva/Documents/DATA_ANALYTICS/Week6/Project/DataSets/brazil_bio.csv')\n",
    "data_cana = pd.read_csv('/Users/Shiva/Documents/DATA_ANALYTICS/Week6/Project/DataSets/canada_bio.csv')\n",
    "data_chi = pd.read_csv('/Users/Shiva/Documents/DATA_ANALYTICS/Week6/Project/DataSets/china_bio.csv')\n",
    "data_russ = pd.read_csv('/Users/Shiva/Documents/DATA_ANALYTICS/Week6/Project/DataSets/russian_bio.csv')\n",
    "\n",
    "\n"
   ]
  },
  {
   "cell_type": "code",
   "execution_count": 74,
   "metadata": {},
   "outputs": [],
   "source": [
    "## FILTERING TO KINGDOM AND NUMBER OF OCCURENCES \n",
    "\n",
    "data_aus = data_aus[['kingdom','numberOfOccurrences']]\n",
    "data_aus = data_aus.loc[data_aus['kingdom'] != 'incertae sedis']\n",
    "\n",
    "data_bra = data_bra[['kingdom','numberOfOccurrences']]\n",
    "data_bra = data_bra.loc[data_bra['kingdom'] != 'incertae sedis']\n",
    "\n",
    "data_cana = data_cana[['kingdom','numberOfOccurrences']]\n",
    "data_cana = data_cana.loc[data_cana['kingdom'] != 'incertae sedis']\n",
    "\n",
    "data_chi = data_chi[['kingdom','numberOfOccurrences']]\n",
    "data_chi = data_chi.loc[data_chi['kingdom'] != 'incertae sedis']\n",
    "\n",
    "data_russ = data_russ[['kingdom','numberOfOccurrences']]\n",
    "data_russ = data_russ.loc[data_russ['kingdom'] != 'incertae sedis']"
   ]
  },
  {
   "cell_type": "code",
   "execution_count": 75,
   "metadata": {},
   "outputs": [],
   "source": [
    "### KEY DATA\n",
    "\n",
    "### NUMBER OF OCCURENCES FOR EACH KINGDOM IN australia\n",
    "\n",
    "plantae_aus = data_aus[data_aus['kingdom'] == 'Plantae']\n",
    "animalia_aus = data_aus[data_aus['kingdom'] == 'Animalia']\n",
    "\n",
    "fungi_aus = data_aus[data_aus['kingdom'] == 'Fungi']\n",
    "chromista_aus = data_aus[data_aus['kingdom'] == 'Chromista']\n",
    "bacteria_aus = data_aus[data_aus['kingdom'] == 'Bacteria']\n",
    "protozoa_aus = data_aus[data_aus['kingdom'] == 'Protozoa']\n",
    "\n",
    "###############\n",
    "\n",
    "### NUMBER OF OCCURENCES FOR EACH KINGDOM IN BRAZIL\n",
    "\n",
    "plantae_bra = data_bra[data_bra['kingdom'] == 'Plantae']\n",
    "animalia_bra = data_bra[data_bra['kingdom'] == 'Animalia']\n",
    "\n",
    "fungi_bra = data_bra[data_bra['kingdom'] == 'Fungi']\n",
    "chromista_bra = data_bra[data_bra['kingdom'] == 'Chromista']\n",
    "bacteria_bra = data_bra[data_bra['kingdom'] == 'Bacteria']\n",
    "protozoa_bra = data_bra[data_bra['kingdom'] == 'Protozoa']\n",
    "\n",
    "\n",
    "##############\n",
    "\n",
    "\n",
    "### NUMBER OF OCCURENCES FOR EACH KINGDOM IN CANADA\n",
    "\n",
    "plantae_cana = data_cana[data_cana['kingdom'] == 'Plantae']\n",
    "animalia_cana = data_cana[data_cana['kingdom'] == 'Animalia']\n",
    "\n",
    "fungi_cana = data_cana[data_cana['kingdom'] == 'Fungi']\n",
    "chromista_cana = data_cana[data_cana['kingdom'] == 'Chromista']\n",
    "bacteria_cana = data_cana[data_cana['kingdom'] == 'Bacteria']\n",
    "protozoa_cana = data_cana[data_cana['kingdom'] == 'Protozoa']\n",
    "\n",
    "\n",
    "##############\n",
    "\n",
    "\n",
    "### NUMBER OF OCCURENCES FOR EACH KINGDOM IN CANADA\n",
    "\n",
    "plantae_chi = data_chi[data_chi['kingdom'] == 'Plantae']\n",
    "animalia_chi = data_chi[data_chi['kingdom'] == 'Animalia']\n",
    "\n",
    "fungi_chi = data_chi[data_chi['kingdom'] == 'Fungi']\n",
    "chromista_chi = data_chi[data_chi['kingdom'] == 'Chromista']\n",
    "bacteria_chi = data_chi[data_chi['kingdom'] == 'Bacteria']\n",
    "protozoa_chi = data_chi[data_chi['kingdom'] == 'Protozoa']\n",
    "\n",
    "\n",
    "#############\n",
    "\n",
    "\n",
    "plantae_russ = data_russ[data_russ['kingdom'] == 'Plantae']\n",
    "animalia_russ = data_russ[data_russ['kingdom'] == 'Animalia']\n",
    "\n",
    "fungi_russ = data_russ[data_russ['kingdom'] == 'Fungi']\n",
    "chromista_russ = data_russ[data_russ['kingdom'] == 'Chromista']\n",
    "bacteria_russ = data_russ[data_russ['kingdom'] == 'Bacteria']\n",
    "protozoa_russ = data_russ[data_russ['kingdom'] == 'Protozoa']\n"
   ]
  },
  {
   "cell_type": "code",
   "execution_count": 76,
   "metadata": {},
   "outputs": [
    {
     "ename": "NameError",
     "evalue": "name 'animalia_it' is not defined",
     "output_type": "error",
     "traceback": [
      "\u001b[0;31m---------------------------------------------------------------------------\u001b[0m",
      "\u001b[0;31mNameError\u001b[0m                                 Traceback (most recent call last)",
      "\u001b[0;32m<ipython-input-76-5e77e874620d>\u001b[0m in \u001b[0;36m<module>\u001b[0;34m\u001b[0m\n\u001b[1;32m      4\u001b[0m \u001b[0;31m###outliers for Animallia in Australia\u001b[0m\u001b[0;34m\u001b[0m\u001b[0;34m\u001b[0m\u001b[0;34m\u001b[0m\u001b[0m\n\u001b[1;32m      5\u001b[0m \u001b[0;34m\u001b[0m\u001b[0m\n\u001b[0;32m----> 6\u001b[0;31m \u001b[0mq_low\u001b[0m \u001b[0;34m=\u001b[0m \u001b[0manimalia_it\u001b[0m\u001b[0;34m[\u001b[0m\u001b[0;34m\"numberOfOccurrences\"\u001b[0m\u001b[0;34m]\u001b[0m\u001b[0;34m.\u001b[0m\u001b[0mquantile\u001b[0m\u001b[0;34m(\u001b[0m\u001b[0;36m0.01\u001b[0m\u001b[0;34m)\u001b[0m\u001b[0;34m\u001b[0m\u001b[0;34m\u001b[0m\u001b[0m\n\u001b[0m\u001b[1;32m      7\u001b[0m \u001b[0mq_hi\u001b[0m  \u001b[0;34m=\u001b[0m \u001b[0manimalia_it\u001b[0m\u001b[0;34m[\u001b[0m\u001b[0;34m\"numberOfOccurrences\"\u001b[0m\u001b[0;34m]\u001b[0m\u001b[0;34m.\u001b[0m\u001b[0mquantile\u001b[0m\u001b[0;34m(\u001b[0m\u001b[0;36m0.99\u001b[0m\u001b[0;34m)\u001b[0m\u001b[0;34m\u001b[0m\u001b[0;34m\u001b[0m\u001b[0m\n\u001b[1;32m      8\u001b[0m \u001b[0;34m\u001b[0m\u001b[0m\n",
      "\u001b[0;31mNameError\u001b[0m: name 'animalia_it' is not defined"
     ]
    }
   ],
   "source": [
    "#### Remove outliers \n",
    "\n",
    "\n",
    "###outliers for Animallia in Australia \n",
    "\n",
    "q_low = animalia_it[\"numberOfOccurrences\"].quantile(0.01)\n",
    "q_hi  = animalia_it[\"numberOfOccurrences\"].quantile(0.99)\n",
    "\n",
    "#Removing outliers from plantae in Portugal  \n",
    "\n",
    "q_low = animalia_it[\"numberOfOccurrences\"].quantile(0.01)\n",
    "q_hi  = animalia_it[\"numberOfOccurrences\"].quantile(0.99)\n",
    "\n",
    "animalia_it_filtered = animalia_it[(animalia_it[\"numberOfOccurrences\"] < q_hi) & (animalia_it[\"numberOfOccurrences\"] > q_low)]\n",
    "\n",
    "\n",
    "###outliers for Animallia in Portugal\n",
    "\n",
    "q_low = animalia_pt[\"numberOfOccurrences\"].quantile(0.01)\n",
    "q_hi  = animalia_pt[\"numberOfOccurrences\"].quantile(0.99)\n",
    "\n",
    "#Removing outliers from Animallia in Portugal  \n",
    "\n",
    "q_low = animalia_pt[\"numberOfOccurrences\"].quantile(0.01)\n",
    "q_hi  = animalia_pt[\"numberOfOccurrences\"].quantile(0.99)\n",
    "\n",
    "animalia_pt_filtered = animalia_pt[(animalia_pt[\"numberOfOccurrences\"] < q_hi) & (animalia_pt[\"numberOfOccurrences\"] > q_low)]\n",
    "\n",
    "\n",
    "\n",
    "\n",
    "\n",
    "\n"
   ]
  },
  {
   "cell_type": "code",
   "execution_count": null,
   "metadata": {
    "scrolled": true
   },
   "outputs": [],
   "source": [
    "### TOTAL OCCURENCES OF DIFERENT KINGDOMS IN Australia \n",
    "\n",
    "### DONT KNOW IF I SHOULD USE SUM OR COUNT HERE !!!\n",
    "\n",
    "group_aus = data_aus.groupby(data_aus['kingdom']).count().transpose().rename(index = {'numberOfOccurrences': 'Australia'})\n",
    "group_aus = group_aus/ group_aus.sum(axis = 1)[0]\n",
    "group_aus.index.names = ['Country']\n",
    "#del group_aus.columns.name\n",
    "\n",
    "\n",
    "##############\n",
    "\n",
    "### TOTAL OCCURENCES OF DIFERENT KINGDOMS IN Brazil\n",
    "\n",
    "group_bra = data_bra.groupby(data_bra['kingdom']).count().transpose().rename(index = {'numberOfOccurrences': 'Brazil'})\n",
    "group_bra = group_bra/ group_bra.sum(axis = 1)[0]\n",
    "group_bra.index.names = ['Country']\n",
    "del group_bra.columns.name\n",
    "\n",
    "##########\n",
    "\n",
    "\n",
    "group_cana = data_cana.groupby(data_cana['kingdom']).count().transpose().rename(index = {'numberOfOccurrences': 'Canada'})\n",
    "group_cana = group_cana/ group_cana.sum(axis = 1)[0]\n",
    "group_cana.index.names = ['Country']\n",
    "del group_aus.columns.name\n",
    "\n",
    "\n",
    "\n",
    "########\n",
    "\n",
    "\n",
    "\n",
    "group_chi = data_chi.groupby(data_chi['kingdom']).count().transpose().rename(index = {'numberOfOccurrences': 'China'})\n",
    "group_chi = group_chi/ group_chi.sum(axis = 1)[0]\n",
    "group_chi.index.names = ['Country']\n",
    "del group_chi.columns.name\n",
    "\n",
    "#######\n",
    "\n",
    "\n",
    "group_russ = data_russ.groupby(data_russ['kingdom']).count().transpose().rename(index = {'numberOfOccurrences': 'Russia'})\n",
    "group_russ = group_russ/ group_russ.sum(axis = 1)[0]\n",
    "group_russ.index.names = ['Country']\n",
    "del group_russ.columns.name\n",
    "\n",
    "\n"
   ]
  },
  {
   "cell_type": "code",
   "execution_count": null,
   "metadata": {
    "scrolled": true
   },
   "outputs": [],
   "source": [
    "group_bra"
   ]
  },
  {
   "cell_type": "code",
   "execution_count": null,
   "metadata": {
    "scrolled": true
   },
   "outputs": [],
   "source": [
    "frames = [group_aus, group_bra, group_cana, group_chi, group_russ]\n",
    "\n",
    "result = pd.concat(frames)"
   ]
  },
  {
   "cell_type": "code",
   "execution_count": null,
   "metadata": {},
   "outputs": [],
   "source": [
    "result"
   ]
  },
  {
   "cell_type": "code",
   "execution_count": null,
   "metadata": {
    "scrolled": true
   },
   "outputs": [],
   "source": [
    "#mean\t580.502165\t1765.632752\t788.377822\t5809.622030\t2252.184271\n",
    "#Australia\tBrazil\tCanada\tChina\tRussian Federation\n",
    "\n",
    "ghg_mena = pd.DataFrame({'GHG total Emission':[580.502165,1765.632752,788.377822,5809.622030,2252.184271]}, index=['Australia', 'Brazil', 'Canada', 'China', 'Russian Federation'])\n",
    "ghg_mena"
   ]
  },
  {
   "cell_type": "code",
   "execution_count": null,
   "metadata": {
    "scrolled": true
   },
   "outputs": [],
   "source": [
    "mergedDf = result.merge(ghg_mena, left_index=True, right_index=True)\n",
    "mergedDf.drop(columns = 'Viruses', inplace = True)"
   ]
  },
  {
   "cell_type": "code",
   "execution_count": null,
   "metadata": {
    "scrolled": true
   },
   "outputs": [],
   "source": [
    "mergedDf.sort_values(by = 'GHG total Emission')"
   ]
  },
  {
   "cell_type": "code",
   "execution_count": null,
   "metadata": {},
   "outputs": [],
   "source": [
    "#plt.scatter(mergedDf['Animalia'],mergedDf['GHG total Emission'])\n",
    "\n",
    "fig=plt.figure()\n",
    "ax=fig.add_axes([0,0,1,1])\n",
    "ax.scatter(mergedDf['GHG total Emission'], mergedDf['Animalia'], color='r')\n",
    "ax.scatter(mergedDf['GHG total Emission'], mergedDf['Bacteria'], color='g')\n",
    "ax.scatter(mergedDf['GHG total Emission'], mergedDf['Fungi'], color='pink')\n",
    "ax.scatter(mergedDf['GHG total Emission'], mergedDf['Plantae'], color='black')\n",
    "ax.scatter(mergedDf['GHG total Emission'], mergedDf['Protozoa'], color='b')\n",
    "\n",
    "\n",
    "\n",
    "\n",
    "ax.set_xlabel('Grades Range')\n",
    "ax.set_ylabel('Grades Scored')\n",
    "ax.set_title('scatter plot')\n",
    "plt.show()"
   ]
  },
  {
   "cell_type": "markdown",
   "metadata": {},
   "source": [
    "# ITALY BIODIVERSITY \n"
   ]
  },
  {
   "cell_type": "code",
   "execution_count": null,
   "metadata": {},
   "outputs": [],
   "source": [
    "data_it= pd.read_csv('/Users/Shiva/Downloads/italy_bio.csv')"
   ]
  },
  {
   "cell_type": "code",
   "execution_count": null,
   "metadata": {},
   "outputs": [],
   "source": [
    "data_it.head()"
   ]
  },
  {
   "cell_type": "code",
   "execution_count": null,
   "metadata": {},
   "outputs": [],
   "source": [
    "## FILTERING TO KINGDOM AND NUMBER OF OCCURENCES\n",
    "\n",
    "data_it = data_it[['kingdom','numberOfOccurrences']]\n",
    "\n",
    "data_it = data_it.loc[data_it['kingdom'] != 'incertae sedis']"
   ]
  },
  {
   "cell_type": "code",
   "execution_count": null,
   "metadata": {},
   "outputs": [],
   "source": [
    "data_it['kingdom'].value_counts()"
   ]
  },
  {
   "cell_type": "code",
   "execution_count": null,
   "metadata": {},
   "outputs": [],
   "source": [
    "### NUMBER OF OCCURENCES FOR EACH KINGDOM IN IT\n",
    "\n",
    "platae_it = data_it[data_it['kingdom'] == 'Plantae']\n",
    "animalia_it = data_it[data_it['kingdom'] == 'Animalia']\n",
    "##\n",
    "fungi_it = data_it[data_it['kingdom'] == 'Fungi']\n",
    "chromista_it = data_it[data_it['kingdom'] == 'Chromista']\n",
    "bacteria_it = data_it[data_it['kingdom'] == 'Bacteria']\n",
    "protozoa_it = data_it[data_it['kingdom'] == 'Protozoa']"
   ]
  },
  {
   "cell_type": "code",
   "execution_count": 78,
   "metadata": {},
   "outputs": [
    {
     "ename": "NameError",
     "evalue": "name 'data_it' is not defined",
     "output_type": "error",
     "traceback": [
      "\u001b[0;31m---------------------------------------------------------------------------\u001b[0m",
      "\u001b[0;31mNameError\u001b[0m                                 Traceback (most recent call last)",
      "\u001b[0;32m<ipython-input-78-38f167ec5d0c>\u001b[0m in \u001b[0;36m<module>\u001b[0;34m\u001b[0m\n\u001b[1;32m      1\u001b[0m \u001b[0;31m### TOTAL OCCURENCES OF DIFERENT KINGDOMS IN ITALY\u001b[0m\u001b[0;34m\u001b[0m\u001b[0;34m\u001b[0m\u001b[0;34m\u001b[0m\u001b[0m\n\u001b[1;32m      2\u001b[0m \u001b[0;34m\u001b[0m\u001b[0m\n\u001b[0;32m----> 3\u001b[0;31m \u001b[0mgroup_it\u001b[0m \u001b[0;34m=\u001b[0m \u001b[0mdata_it\u001b[0m\u001b[0;34m.\u001b[0m\u001b[0mgroupby\u001b[0m\u001b[0;34m(\u001b[0m\u001b[0mdata_it\u001b[0m\u001b[0;34m[\u001b[0m\u001b[0;34m'kingdom'\u001b[0m\u001b[0;34m]\u001b[0m\u001b[0;34m)\u001b[0m\u001b[0;34m.\u001b[0m\u001b[0mcount\u001b[0m\u001b[0;34m(\u001b[0m\u001b[0;34m)\u001b[0m\u001b[0;34m\u001b[0m\u001b[0;34m\u001b[0m\u001b[0m\n\u001b[0m",
      "\u001b[0;31mNameError\u001b[0m: name 'data_it' is not defined"
     ]
    }
   ],
   "source": [
    "### TOTAL OCCURENCES OF DIFERENT KINGDOMS IN ITALY \n",
    "\n",
    "group_it = data_it.groupby(data_it['kingdom']).count()"
   ]
  },
  {
   "cell_type": "code",
   "execution_count": null,
   "metadata": {
    "scrolled": true
   },
   "outputs": [],
   "source": [
    "group_it"
   ]
  },
  {
   "cell_type": "code",
   "execution_count": 77,
   "metadata": {},
   "outputs": [
    {
     "ename": "NameError",
     "evalue": "name 'group_it' is not defined",
     "output_type": "error",
     "traceback": [
      "\u001b[0;31m---------------------------------------------------------------------------\u001b[0m",
      "\u001b[0;31mNameError\u001b[0m                                 Traceback (most recent call last)",
      "\u001b[0;32m<ipython-input-77-e041b0474636>\u001b[0m in \u001b[0;36m<module>\u001b[0;34m\u001b[0m\n\u001b[0;32m----> 1\u001b[0;31m \u001b[0mlist\u001b[0m\u001b[0;34m(\u001b[0m\u001b[0mgroup_it\u001b[0m\u001b[0;34m.\u001b[0m\u001b[0mindex\u001b[0m\u001b[0;34m)\u001b[0m\u001b[0;34m\u001b[0m\u001b[0;34m\u001b[0m\u001b[0m\n\u001b[0m\u001b[1;32m      2\u001b[0m \u001b[0;34m\u001b[0m\u001b[0m\n",
      "\u001b[0;31mNameError\u001b[0m: name 'group_it' is not defined"
     ]
    }
   ],
   "source": [
    "list(group_it.index)\n",
    "\n"
   ]
  },
  {
   "cell_type": "code",
   "execution_count": 71,
   "metadata": {
    "scrolled": true
   },
   "outputs": [
    {
     "ename": "NameError",
     "evalue": "name 'group_it' is not defined",
     "output_type": "error",
     "traceback": [
      "\u001b[0;31m---------------------------------------------------------------------------\u001b[0m",
      "\u001b[0;31mNameError\u001b[0m                                 Traceback (most recent call last)",
      "\u001b[0;32m<ipython-input-71-c6f732369f7b>\u001b[0m in \u001b[0;36m<module>\u001b[0;34m\u001b[0m\n\u001b[1;32m      3\u001b[0m \u001b[0;31m### THERE IS A DIFERENCE BETWEEN THE DIFFERENT KINGDOMS Number of Ocurrences BETWEEN THE TWO COUNTRIES\u001b[0m\u001b[0;34m\u001b[0m\u001b[0;34m\u001b[0m\u001b[0;34m\u001b[0m\u001b[0m\n\u001b[1;32m      4\u001b[0m \u001b[0;34m\u001b[0m\u001b[0m\n\u001b[0;32m----> 5\u001b[0;31m \u001b[0mind\u001b[0m \u001b[0;34m=\u001b[0m \u001b[0mlist\u001b[0m\u001b[0;34m(\u001b[0m\u001b[0mgroup_it\u001b[0m\u001b[0;34m.\u001b[0m\u001b[0mindex\u001b[0m\u001b[0;34m)\u001b[0m\u001b[0;34m\u001b[0m\u001b[0;34m\u001b[0m\u001b[0m\n\u001b[0m\u001b[1;32m      6\u001b[0m \u001b[0;34m\u001b[0m\u001b[0m\n\u001b[1;32m      7\u001b[0m \u001b[0mfig\u001b[0m\u001b[0;34m,\u001b[0m \u001b[0maxs\u001b[0m \u001b[0;34m=\u001b[0m \u001b[0mplt\u001b[0m\u001b[0;34m.\u001b[0m\u001b[0msubplots\u001b[0m\u001b[0;34m(\u001b[0m\u001b[0;36m1\u001b[0m\u001b[0;34m,\u001b[0m \u001b[0;36m1\u001b[0m\u001b[0;34m,\u001b[0m \u001b[0mfigsize\u001b[0m\u001b[0;34m=\u001b[0m\u001b[0;34m(\u001b[0m\u001b[0;36m20\u001b[0m\u001b[0;34m,\u001b[0m \u001b[0;36m10\u001b[0m\u001b[0;34m)\u001b[0m\u001b[0;34m)\u001b[0m\u001b[0;34m\u001b[0m\u001b[0;34m\u001b[0m\u001b[0m\n",
      "\u001b[0;31mNameError\u001b[0m: name 'group_it' is not defined"
     ]
    }
   ],
   "source": [
    "# 1st \n",
    "\n",
    "### THERE IS A DIFERENCE BETWEEN THE DIFFERENT KINGDOMS Number of Ocurrences BETWEEN THE TWO COUNTRIES \n",
    "\n",
    "ind = list(group_it.index)\n",
    "\n",
    "fig, axs = plt.subplots(1, 1, figsize=(20, 10))\n",
    "\n",
    "ax = fig.add_axes([0,0,1,1])\n",
    "width = 0.35\n",
    "\n",
    "ax.bar(ind, group_pt['numberOfOccurrences'], width, color='r')\n",
    "ax.bar(ind, group_it['numberOfOccurrences'], width,bottom=group_pt['numberOfOccurrences'], color='b')\n",
    "ax.legend(['Portugal','Italy'])\n",
    "plt.title(\"Number of ocurrences for each Kingdom\")\n",
    "\n"
   ]
  },
  {
   "cell_type": "code",
   "execution_count": 173,
   "metadata": {
    "scrolled": false
   },
   "outputs": [
    {
     "data": {
      "text/plain": [
       "<BarContainer object of 6 artists>"
      ]
     },
     "execution_count": 173,
     "metadata": {},
     "output_type": "execute_result"
    },
    {
     "data": {
      "image/png": "[encoded data removed]",
      "text/plain": [
       "<Figure size 432x288 with 1 Axes>"
      ]
     },
     "metadata": {
      "needs_background": "light"
     },
     "output_type": "display_data"
    }
   ],
   "source": [
    "\n",
    "X = np.arange(6)\n",
    "fig = plt.figure()\n",
    "ax = fig.add_axes([0,0,1,1])\n",
    "ax.bar(X + 0.00, group_pt['numberOfOccurrences'], color = 'r', width = 0.25)\n",
    "ax.bar(X + 0.25, group_it['numberOfOccurrences'], color = 'b', width = 0.25)\n",
    "\n"
   ]
  },
  {
   "cell_type": "markdown",
   "metadata": {},
   "source": [
    "# PLANTAE IN ITALY VS PLANTAE IN PORTUGAL ###"
   ]
  },
  {
   "cell_type": "code",
   "execution_count": 174,
   "metadata": {
    "scrolled": true
   },
   "outputs": [
    {
     "data": {
      "text/html": [
       "<div>\n",
       "<style scoped>\n",
       "    .dataframe tbody tr th:only-of-type {\n",
       "        vertical-align: middle;\n",
       "    }\n",
       "\n",
       "    .dataframe tbody tr th {\n",
       "        vertical-align: top;\n",
       "    }\n",
       "\n",
       "    .dataframe thead th {\n",
       "        text-align: right;\n",
       "    }\n",
       "</style>\n",
       "<table border=\"1\" class=\"dataframe\">\n",
       "  <thead>\n",
       "    <tr style=\"text-align: right;\">\n",
       "      <th></th>\n",
       "      <th>numberOfOccurrences</th>\n",
       "    </tr>\n",
       "  </thead>\n",
       "  <tbody>\n",
       "    <tr>\n",
       "      <td>count</td>\n",
       "      <td>6676.000000</td>\n",
       "    </tr>\n",
       "    <tr>\n",
       "      <td>mean</td>\n",
       "      <td>5.980527</td>\n",
       "    </tr>\n",
       "    <tr>\n",
       "      <td>std</td>\n",
       "      <td>39.135048</td>\n",
       "    </tr>\n",
       "    <tr>\n",
       "      <td>min</td>\n",
       "      <td>1.000000</td>\n",
       "    </tr>\n",
       "    <tr>\n",
       "      <td>25%</td>\n",
       "      <td>1.000000</td>\n",
       "    </tr>\n",
       "    <tr>\n",
       "      <td>50%</td>\n",
       "      <td>3.000000</td>\n",
       "    </tr>\n",
       "    <tr>\n",
       "      <td>75%</td>\n",
       "      <td>6.000000</td>\n",
       "    </tr>\n",
       "    <tr>\n",
       "      <td>max</td>\n",
       "      <td>2237.000000</td>\n",
       "    </tr>\n",
       "  </tbody>\n",
       "</table>\n",
       "</div>"
      ],
      "text/plain": [
       "       numberOfOccurrences\n",
       "count          6676.000000\n",
       "mean              5.980527\n",
       "std              39.135048\n",
       "min               1.000000\n",
       "25%               1.000000\n",
       "50%               3.000000\n",
       "75%               6.000000\n",
       "max            2237.000000"
      ]
     },
     "execution_count": 174,
     "metadata": {},
     "output_type": "execute_result"
    }
   ],
   "source": [
    "## Descriptive statistics \n",
    "\n",
    "platae_it.describe()"
   ]
  },
  {
   "cell_type": "code",
   "execution_count": 175,
   "metadata": {},
   "outputs": [
    {
     "data": {
      "text/plain": [
       "'\\nIt does not fit a Gaussian Model.\\n\\n'"
      ]
     },
     "execution_count": 175,
     "metadata": {},
     "output_type": "execute_result"
    }
   ],
   "source": [
    "\"\"\"\n",
    "It does not fit a Gaussian Model.\n",
    "\n",
    "\"\"\""
   ]
  },
  {
   "cell_type": "code",
   "execution_count": 176,
   "metadata": {},
   "outputs": [],
   "source": [
    "####"
   ]
  },
  {
   "cell_type": "code",
   "execution_count": 177,
   "metadata": {},
   "outputs": [],
   "source": [
    "###outliers from plantae in Italy\n",
    "\n",
    "q_low = platae_it[\"numberOfOccurrences\"].quantile(0.01)\n",
    "q_hi  = platae_it[\"numberOfOccurrences\"].quantile(0.99)\n",
    "\n"
   ]
  },
  {
   "cell_type": "code",
   "execution_count": 178,
   "metadata": {},
   "outputs": [],
   "source": [
    "#Removing outliers from plantae in Italy  \n",
    "\n",
    "q_low = platae_it[\"numberOfOccurrences\"].quantile(0.01)\n",
    "q_hi  = platae_it[\"numberOfOccurrences\"].quantile(0.99)\n",
    "\n",
    "platae_it_filtered = platae_it[(platae_it[\"numberOfOccurrences\"] < q_hi) & (platae_it[\"numberOfOccurrences\"] > q_low)]\n"
   ]
  },
  {
   "cell_type": "code",
   "execution_count": 179,
   "metadata": {},
   "outputs": [],
   "source": [
    "###outliers from plantae in Portugal\n",
    "\n",
    "q_low = platae_pt[\"numberOfOccurrences\"].quantile(0.01)\n",
    "q_hi  = platae_pt[\"numberOfOccurrences\"].quantile(0.99)\n",
    "\n",
    "\n"
   ]
  },
  {
   "cell_type": "code",
   "execution_count": 180,
   "metadata": {},
   "outputs": [],
   "source": [
    "#Removing outliers from plantae in Portugal  \n",
    "\n",
    "q_low = platae_pt[\"numberOfOccurrences\"].quantile(0.01)\n",
    "q_hi  = platae_pt[\"numberOfOccurrences\"].quantile(0.99)\n",
    "\n",
    "platae_pt_filtered = platae_pt[(platae_pt[\"numberOfOccurrences\"] < q_hi) & (platae_pt[\"numberOfOccurrences\"] > q_low)]\n",
    "\n"
   ]
  },
  {
   "cell_type": "code",
   "execution_count": 181,
   "metadata": {},
   "outputs": [
    {
     "data": {
      "text/plain": [
       "Ttest_indResult(statistic=3.239084090448369, pvalue=0.001204381482457467)"
      ]
     },
     "execution_count": 181,
     "metadata": {},
     "output_type": "execute_result"
    }
   ],
   "source": [
    "## compare plantae in italy agains plantae in Portugal \n",
    "\n",
    "## t-statistics \n",
    "\n",
    "## Significance level = 0.05\n",
    "\n",
    "\n",
    "ttest_ind(platae_pt_filtered['numberOfOccurrences'], platae_it_filtered['numberOfOccurrences'])"
   ]
  },
  {
   "cell_type": "code",
   "execution_count": null,
   "metadata": {},
   "outputs": [],
   "source": [
    "\"\"\"\n",
    "WE REJECT THE HYPOTESIS THAT THE TWO DISTRIBUTIONS ARE EQUAL, \n",
    "SO THERE IS DIFERENCE BETWEEN THE PLANTAE IN PORTUGAL AND IN ITALLY\n",
    "WITH A CONFIDENCE LEVEL OF 95%.\n",
    "\n",
    "\"\"\""
   ]
  },
  {
   "cell_type": "code",
   "execution_count": 182,
   "metadata": {},
   "outputs": [],
   "source": [
    "# 1 ##### MODEL FIT ##### PLANTAE ITALY WITH GAUSS "
   ]
  },
  {
   "cell_type": "code",
   "execution_count": 183,
   "metadata": {
    "scrolled": false
   },
   "outputs": [
    {
     "data": {
      "text/plain": [
       "6.609857612267251"
      ]
     },
     "execution_count": 183,
     "metadata": {},
     "output_type": "execute_result"
    }
   ],
   "source": [
    "platae_it_filtered_mean = platae_it_filtered.mean()[0]\n",
    "platae_it_filtered_mean"
   ]
  },
  {
   "cell_type": "code",
   "execution_count": 184,
   "metadata": {},
   "outputs": [
    {
     "data": {
      "text/plain": [
       "39.13504797884314"
      ]
     },
     "execution_count": 184,
     "metadata": {},
     "output_type": "execute_result"
    }
   ],
   "source": [
    "platae_it_filtered_std = platae_it.std()[0]\n",
    "platae_it_filtered_std"
   ]
  },
  {
   "cell_type": "code",
   "execution_count": 186,
   "metadata": {
    "scrolled": true
   },
   "outputs": [
    {
     "data": {
      "text/plain": [
       "4565"
      ]
     },
     "execution_count": 186,
     "metadata": {},
     "output_type": "execute_result"
    }
   ],
   "source": [
    "platae_it_filtered.shape[0]"
   ]
  },
  {
   "cell_type": "code",
   "execution_count": 191,
   "metadata": {
    "scrolled": true
   },
   "outputs": [],
   "source": [
    "\n",
    "mean =platae_it_filtered_mean\n",
    "std = platae_it_filtered_std\n",
    "\n",
    "p_normal_it = norm.rvs(loc = mean, scale = std,size = platae_it_filtered.shape[0])\n",
    "#p_normal_it\n",
    "\n",
    "#plt.hist(normal1, bins =50)"
   ]
  },
  {
   "cell_type": "code",
   "execution_count": 189,
   "metadata": {},
   "outputs": [
    {
     "data": {
      "text/plain": [
       "Power_divergenceResult(statistic=-179585.92274542578, pvalue=1.0)"
      ]
     },
     "execution_count": 189,
     "metadata": {},
     "output_type": "execute_result"
    }
   ],
   "source": [
    "### Godness of fit for Plantae in Italy \n",
    "\n",
    "chisquare(platae_it_filtered['numberOfOccurrences'], f_exp = p_normal_it)\n",
    "\n"
   ]
  },
  {
   "cell_type": "code",
   "execution_count": null,
   "metadata": {},
   "outputs": [],
   "source": [
    "\"\"\"\n",
    "\n",
    "WE CANT REJECT THEY HAVE THE SAME DISTRIBUTION AS NORMAL ONE \n",
    "\"\"\""
   ]
  },
  {
   "cell_type": "code",
   "execution_count": 220,
   "metadata": {},
   "outputs": [],
   "source": [
    "# 2 ##### MODEL FIT ##### PLANTAE Portugal WITH GAUSS \n",
    "\n",
    "platae_pt_filtered_mean = platae_pt_filtered.mean()[0]\n",
    "\n",
    "platae_pt_filtered_std = platae_pt.std()[0]\n",
    "\n",
    "\n",
    "mean =platae_pt_filtered_mean\n",
    "std = platae_pt_filtered_std\n",
    "\n",
    "#Creating a normal distribution model ---- dont know who to create a geometric distribution ---- to do godness of fit \n",
    "# discret distribution \n",
    "\n",
    "\n",
    "p_normal_pt = norm.rvs(loc = mean, scale = std,size = platae_pt_filtered.shape[0])\n"
   ]
  },
  {
   "cell_type": "code",
   "execution_count": 221,
   "metadata": {
    "scrolled": true
   },
   "outputs": [
    {
     "data": {
      "text/plain": [
       "Power_divergenceResult(statistic=-7519.664272910245, pvalue=1.0)"
      ]
     },
     "execution_count": 221,
     "metadata": {},
     "output_type": "execute_result"
    }
   ],
   "source": [
    "chisquare(platae_pt_filtered['numberOfOccurrences'], f_exp = p_normal_pt)"
   ]
  },
  {
   "cell_type": "code",
   "execution_count": null,
   "metadata": {},
   "outputs": [],
   "source": [
    "\"\"\"\n",
    "\n",
    "WE CANT REJECT THEY HAVE THE SAME DISTRIBUTION AS NORMAL ONE \n",
    "\"\"\""
   ]
  },
  {
   "cell_type": "code",
   "execution_count": 190,
   "metadata": {
    "scrolled": true
   },
   "outputs": [],
   "source": [
    "## Plot the number of occurences IT and PT \n",
    "\n",
    "#### DO BETTER PLOTS HERE \n",
    "\n",
    "\n",
    "#platae_it_filtered['numberOfOccurrences'].sort_values().reset_index().drop(columns = 'index').hist()\n",
    "#platae_pt_filtered['numberOfOccurrences'].sort_values().reset_index().drop(columns = 'index').hist()"
   ]
  },
  {
   "cell_type": "markdown",
   "metadata": {},
   "source": [
    "# ANIMALIAIN ITALY VS PLANTAE IN PORTUGAL"
   ]
  },
  {
   "cell_type": "code",
   "execution_count": 152,
   "metadata": {},
   "outputs": [
    {
     "data": {
      "text/html": [
       "<div>\n",
       "<style scoped>\n",
       "    .dataframe tbody tr th:only-of-type {\n",
       "        vertical-align: middle;\n",
       "    }\n",
       "\n",
       "    .dataframe tbody tr th {\n",
       "        vertical-align: top;\n",
       "    }\n",
       "\n",
       "    .dataframe thead th {\n",
       "        text-align: right;\n",
       "    }\n",
       "</style>\n",
       "<table border=\"1\" class=\"dataframe\">\n",
       "  <thead>\n",
       "    <tr style=\"text-align: right;\">\n",
       "      <th></th>\n",
       "      <th>numberOfOccurrences</th>\n",
       "    </tr>\n",
       "  </thead>\n",
       "  <tbody>\n",
       "    <tr>\n",
       "      <td>count</td>\n",
       "      <td>7383.000000</td>\n",
       "    </tr>\n",
       "    <tr>\n",
       "      <td>mean</td>\n",
       "      <td>5.049438</td>\n",
       "    </tr>\n",
       "    <tr>\n",
       "      <td>std</td>\n",
       "      <td>10.052887</td>\n",
       "    </tr>\n",
       "    <tr>\n",
       "      <td>min</td>\n",
       "      <td>1.000000</td>\n",
       "    </tr>\n",
       "    <tr>\n",
       "      <td>25%</td>\n",
       "      <td>1.000000</td>\n",
       "    </tr>\n",
       "    <tr>\n",
       "      <td>50%</td>\n",
       "      <td>2.000000</td>\n",
       "    </tr>\n",
       "    <tr>\n",
       "      <td>75%</td>\n",
       "      <td>5.000000</td>\n",
       "    </tr>\n",
       "    <tr>\n",
       "      <td>max</td>\n",
       "      <td>198.000000</td>\n",
       "    </tr>\n",
       "  </tbody>\n",
       "</table>\n",
       "</div>"
      ],
      "text/plain": [
       "       numberOfOccurrences\n",
       "count          7383.000000\n",
       "mean              5.049438\n",
       "std              10.052887\n",
       "min               1.000000\n",
       "25%               1.000000\n",
       "50%               2.000000\n",
       "75%               5.000000\n",
       "max             198.000000"
      ]
     },
     "execution_count": 152,
     "metadata": {},
     "output_type": "execute_result"
    }
   ],
   "source": [
    "animalia_it.describe()"
   ]
  },
  {
   "cell_type": "code",
   "execution_count": 210,
   "metadata": {},
   "outputs": [],
   "source": [
    "###outliers for Animallia in Italy\n",
    "\n",
    "q_low = animalia_it[\"numberOfOccurrences\"].quantile(0.01)\n",
    "q_hi  = animalia_it[\"numberOfOccurrences\"].quantile(0.99)\n",
    "\n",
    "#Removing outliers from plantae in Portugal  \n",
    "\n",
    "q_low = animalia_it[\"numberOfOccurrences\"].quantile(0.01)\n",
    "q_hi  = animalia_it[\"numberOfOccurrences\"].quantile(0.99)\n",
    "\n",
    "animalia_it_filtered = animalia_it[(animalia_it[\"numberOfOccurrences\"] < q_hi) & (animalia_it[\"numberOfOccurrences\"] > q_low)]\n",
    "\n",
    "\n",
    "###outliers for Animallia in Portugal\n",
    "\n",
    "q_low = animalia_pt[\"numberOfOccurrences\"].quantile(0.01)\n",
    "q_hi  = animalia_pt[\"numberOfOccurrences\"].quantile(0.99)\n",
    "\n",
    "#Removing outliers from Animallia in Portugal  \n",
    "\n",
    "q_low = animalia_pt[\"numberOfOccurrences\"].quantile(0.01)\n",
    "q_hi  = animalia_pt[\"numberOfOccurrences\"].quantile(0.99)\n",
    "\n",
    "animalia_pt_filtered = animalia_pt[(animalia_pt[\"numberOfOccurrences\"] < q_hi) & (animalia_pt[\"numberOfOccurrences\"] > q_low)]\n",
    "\n",
    "\n",
    "\n"
   ]
  },
  {
   "cell_type": "code",
   "execution_count": 211,
   "metadata": {},
   "outputs": [
    {
     "data": {
      "text/plain": [
       "Ttest_indResult(statistic=11.2582562913861, pvalue=3.9058842290867343e-29)"
      ]
     },
     "execution_count": 211,
     "metadata": {},
     "output_type": "execute_result"
    }
   ],
   "source": [
    "## compare plantae in italy agains animalia in Portugal \n",
    "\n",
    "## t-statistics \n",
    "\n",
    "## Significance level = 0.05\n",
    "\n",
    "\n",
    "ttest_ind(animalia_pt_filtered['numberOfOccurrences'], animalia_it_filtered['numberOfOccurrences'])"
   ]
  },
  {
   "cell_type": "code",
   "execution_count": 212,
   "metadata": {},
   "outputs": [
    {
     "data": {
      "text/plain": [
       "'\\nWE REJECT THE HYPOTESIS THAT THE TWO DISTRIBUTIONS ARE EQUAL, \\nSO THERE IS DIFERENCE BETWEEN THE ANIMALIA IN PORTUGAL AND IN ITALLY\\nWITH A CONFIDENCE LEVEL OF 95%.\\n\\n'"
      ]
     },
     "execution_count": 212,
     "metadata": {},
     "output_type": "execute_result"
    }
   ],
   "source": [
    "\"\"\"\n",
    "WE REJECT THE HYPOTESIS THAT THE TWO DISTRIBUTIONS ARE EQUAL, \n",
    "SO THERE IS DIFERENCE BETWEEN THE ANIMALIA IN PORTUGAL AND IN ITALLY\n",
    "WITH A CONFIDENCE LEVEL OF 95%.\n",
    "\n",
    "\"\"\""
   ]
  },
  {
   "cell_type": "code",
   "execution_count": 213,
   "metadata": {},
   "outputs": [
    {
     "data": {
      "text/plain": [
       "Power_divergenceResult(statistic=-113617.30045560672, pvalue=1.0)"
      ]
     },
     "execution_count": 213,
     "metadata": {},
     "output_type": "execute_result"
    }
   ],
   "source": [
    "##### MODEL FIT ##### ANIMALIA PORTUGAL WITH GAUSS \n",
    "\n",
    "\n",
    "animalia_pt_filtered_mean = animalia_pt_filtered.mean()[0]\n",
    "\n",
    "animalia_pt_filtered_std = animalia_pt_filtered.std()[0]\n",
    "\n",
    "mean =animalia_pt_filtered_mean\n",
    "std = animalia_pt_filtered_std\n",
    "\n",
    "a_normal_it = norm.rvs(loc = mean, scale = std,size = animalia_pt_filtered.shape[0])\n",
    "\n",
    "chisquare(animalia_pt_filtered['numberOfOccurrences'], f_exp = a_normal_it)\n"
   ]
  },
  {
   "cell_type": "code",
   "execution_count": null,
   "metadata": {},
   "outputs": [],
   "source": [
    "\"\"\"\n",
    "WE CANT REJECT THEY HAVE THE SAME DISTRIBUTION AS NORMAL ONE.\n",
    "There is diference in the animal kingdom between the two countries.\n",
    "\n",
    "\"\"\""
   ]
  },
  {
   "cell_type": "code",
   "execution_count": 218,
   "metadata": {},
   "outputs": [
    {
     "data": {
      "text/plain": [
       "array([[<matplotlib.axes._subplots.AxesSubplot object at 0x1a1d0a3550>]],\n",
       "      dtype=object)"
      ]
     },
     "execution_count": 218,
     "metadata": {},
     "output_type": "execute_result"
    },
    {
     "data": {
      "image/png": "[encoded data removed]",
      "text/plain": [
       "<Figure size 432x288 with 1 Axes>"
      ]
     },
     "metadata": {
      "needs_background": "light"
     },
     "output_type": "display_data"
    }
   ],
   "source": [
    "platae_it_filtered['numberOfOccurrences'].sort_values().reset_index().drop(columns = 'index').hist()"
   ]
  },
  {
   "cell_type": "code",
   "execution_count": null,
   "metadata": {},
   "outputs": [],
   "source": []
  },
  {
   "cell_type": "code",
   "execution_count": null,
   "metadata": {},
   "outputs": [],
   "source": []
  }
 ],
 "metadata": {
  "kernelspec": {
   "display_name": "Python 3",
   "language": "python",
   "name": "python3"
  },
  "language_info": {
   "codemirror_mode": {
    "name": "ipython",
    "version": 3
   },
   "file_extension": ".py",
   "mimetype": "text/x-python",
   "name": "python",
   "nbconvert_exporter": "python",
   "pygments_lexer": "ipython3",
   "version": "3.7.4"
  }
 },
 "nbformat": 4,
 "nbformat_minor": 2
}
