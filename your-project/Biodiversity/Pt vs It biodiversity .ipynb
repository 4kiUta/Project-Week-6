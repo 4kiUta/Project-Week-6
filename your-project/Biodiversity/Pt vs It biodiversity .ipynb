{
 "cells": [
  {
   "cell_type": "code",
   "execution_count": 1,
   "metadata": {},
   "outputs": [],
   "source": [
    "import numpy as np\n",
    "import matplotlib\n",
    "import matplotlib.pyplot as plt\n",
    "import pandas as pd\n",
    "from scipy import stats\n",
    "from scipy.stats import f_oneway, ttest_ind, chisquare\n",
    "import matplotlib\n",
    "import matplotlib.pyplot as plt\n",
    "from scipy.stats import norm\n",
    "\n",
    "\n"
   ]
  },
  {
   "cell_type": "markdown",
   "metadata": {},
   "source": [
    "# PORTUGAL BIODIVERSITY "
   ]
  },
  {
   "cell_type": "code",
   "execution_count": 8,
   "metadata": {},
   "outputs": [],
   "source": [
    "data_pt = pd.read_csv('/Users/Shiva/Documents/DATA_ANALYTICS/Week6/Project/DataSets/port_bio.csv')"
   ]
  },
  {
   "cell_type": "code",
   "execution_count": 9,
   "metadata": {
    "scrolled": true
   },
   "outputs": [
    {
     "data": {
      "text/plain": [
       "(8602, 21)"
      ]
     },
     "execution_count": 9,
     "metadata": {},
     "output_type": "execute_result"
    }
   ],
   "source": [
    "data_pt.shape"
   ]
  },
  {
   "cell_type": "code",
   "execution_count": 10,
   "metadata": {},
   "outputs": [],
   "source": [
    "## FILTERING TO KINGDOM AND NUMBER OF OCCURENCES \n",
    "\n",
    "data_pt = data_pt[['kingdom','numberOfOccurrences']]\n",
    "\n",
    "data_pt = data_pt.loc[data_pt['kingdom'] != 'incertae sedis']\n"
   ]
  },
  {
   "cell_type": "code",
   "execution_count": 11,
   "metadata": {
    "scrolled": false
   },
   "outputs": [
    {
     "data": {
      "text/plain": [
       "Plantae      4422\n",
       "Animalia     2988\n",
       "Fungi         924\n",
       "Chromista     207\n",
       "Bacteria       43\n",
       "Protozoa       17\n",
       "Name: kingdom, dtype: int64"
      ]
     },
     "execution_count": 11,
     "metadata": {},
     "output_type": "execute_result"
    }
   ],
   "source": [
    "data_pt['kingdom'].value_counts()"
   ]
  },
  {
   "cell_type": "code",
   "execution_count": 12,
   "metadata": {},
   "outputs": [],
   "source": [
    "### KEY DATA\n",
    "\n",
    "### NUMBER OF OCCURENCES FOR EACH KINGDOM IN PT\n",
    "\n",
    "platae_pt = data_pt[data_pt['kingdom'] == 'Plantae']\n",
    "animalia_pt = data_pt[data_pt['kingdom'] == 'Animalia']\n",
    "\n",
    "fungi_pt = data_pt[data_pt['kingdom'] == 'Fungi']\n",
    "chromista_pt = data_pt[data_pt['kingdom'] == 'Chromista']\n",
    "bacteria_pt = data_pt[data_pt['kingdom'] == 'Bacteria']\n",
    "protozoa_pt = data_pt[data_pt['kingdom'] == 'Protozoa']"
   ]
  },
  {
   "cell_type": "code",
   "execution_count": 13,
   "metadata": {
    "scrolled": true
   },
   "outputs": [],
   "source": [
    "### TOTAL OCCURENCES OF DIFERENT KINGDOMS IN PORTUGAL \n",
    "\n",
    "group_pt = data_pt.groupby(data_pt['kingdom']).count()"
   ]
  },
  {
   "cell_type": "markdown",
   "metadata": {},
   "source": [
    "# ITALY BIODIVERSITY \n"
   ]
  },
  {
   "cell_type": "code",
   "execution_count": 14,
   "metadata": {},
   "outputs": [],
   "source": [
    "data_it= pd.read_csv('/Users/Shiva/Documents/DATA_ANALYTICS/Week6/Project/DataSets/italy_bio.csv')"
   ]
  },
  {
   "cell_type": "code",
   "execution_count": 15,
   "metadata": {},
   "outputs": [
    {
     "data": {
      "text/html": [
       "<div>\n",
       "<style scoped>\n",
       "    .dataframe tbody tr th:only-of-type {\n",
       "        vertical-align: middle;\n",
       "    }\n",
       "\n",
       "    .dataframe tbody tr th {\n",
       "        vertical-align: top;\n",
       "    }\n",
       "\n",
       "    .dataframe thead th {\n",
       "        text-align: right;\n",
       "    }\n",
       "</style>\n",
       "<table border=\"1\" class=\"dataframe\">\n",
       "  <thead>\n",
       "    <tr style=\"text-align: right;\">\n",
       "      <th></th>\n",
       "      <th>taxonKey</th>\n",
       "      <th>scientificName</th>\n",
       "      <th>acceptedTaxonKey</th>\n",
       "      <th>acceptedScientificName</th>\n",
       "      <th>numberOfOccurrences</th>\n",
       "      <th>taxonRank</th>\n",
       "      <th>taxonomicStatus</th>\n",
       "      <th>kingdom</th>\n",
       "      <th>kingdomKey</th>\n",
       "      <th>phylum</th>\n",
       "      <th>...</th>\n",
       "      <th>class</th>\n",
       "      <th>classKey</th>\n",
       "      <th>order</th>\n",
       "      <th>orderKey</th>\n",
       "      <th>family</th>\n",
       "      <th>familyKey</th>\n",
       "      <th>genus</th>\n",
       "      <th>genusKey</th>\n",
       "      <th>species</th>\n",
       "      <th>speciesKey</th>\n",
       "    </tr>\n",
       "  </thead>\n",
       "  <tbody>\n",
       "    <tr>\n",
       "      <td>0</td>\n",
       "      <td>7247548</td>\n",
       "      <td>Usnea dasypoga (Ach.) Röhl.</td>\n",
       "      <td>7247548.0</td>\n",
       "      <td>Usnea dasypoga (Ach.) Röhl.</td>\n",
       "      <td>1</td>\n",
       "      <td>SPECIES</td>\n",
       "      <td>DOUBTFUL</td>\n",
       "      <td>Fungi</td>\n",
       "      <td>5</td>\n",
       "      <td>Ascomycota</td>\n",
       "      <td>...</td>\n",
       "      <td>Lecanoromycetes</td>\n",
       "      <td>180.0</td>\n",
       "      <td>Lecanorales</td>\n",
       "      <td>1048.0</td>\n",
       "      <td>Parmeliaceae</td>\n",
       "      <td>8305.0</td>\n",
       "      <td>Usnea</td>\n",
       "      <td>2605982.0</td>\n",
       "      <td>Usnea dasypoga</td>\n",
       "      <td>7247548.0</td>\n",
       "    </tr>\n",
       "    <tr>\n",
       "      <td>1</td>\n",
       "      <td>3033131</td>\n",
       "      <td>Thalictrum aquilegifolium L.</td>\n",
       "      <td>3033131.0</td>\n",
       "      <td>Thalictrum aquilegifolium L.</td>\n",
       "      <td>5</td>\n",
       "      <td>SPECIES</td>\n",
       "      <td>ACCEPTED</td>\n",
       "      <td>Plantae</td>\n",
       "      <td>6</td>\n",
       "      <td>Tracheophyta</td>\n",
       "      <td>...</td>\n",
       "      <td>Magnoliopsida</td>\n",
       "      <td>220.0</td>\n",
       "      <td>Ranunculales</td>\n",
       "      <td>399.0</td>\n",
       "      <td>Ranunculaceae</td>\n",
       "      <td>2410.0</td>\n",
       "      <td>Thalictrum</td>\n",
       "      <td>3033112.0</td>\n",
       "      <td>Thalictrum aquilegifolium</td>\n",
       "      <td>3033131.0</td>\n",
       "    </tr>\n",
       "    <tr>\n",
       "      <td>2</td>\n",
       "      <td>2915121</td>\n",
       "      <td>Galium bernardii Gren.</td>\n",
       "      <td>7779137.0</td>\n",
       "      <td>Galium lucidum subsp. venustum (Jord.) Arcang.</td>\n",
       "      <td>2</td>\n",
       "      <td>SPECIES</td>\n",
       "      <td>SYNONYM</td>\n",
       "      <td>Plantae</td>\n",
       "      <td>6</td>\n",
       "      <td>Tracheophyta</td>\n",
       "      <td>...</td>\n",
       "      <td>Magnoliopsida</td>\n",
       "      <td>220.0</td>\n",
       "      <td>Gentianales</td>\n",
       "      <td>412.0</td>\n",
       "      <td>Rubiaceae</td>\n",
       "      <td>8798.0</td>\n",
       "      <td>Galium</td>\n",
       "      <td>2913027.0</td>\n",
       "      <td>Galium lucidum</td>\n",
       "      <td>2913863.0</td>\n",
       "    </tr>\n",
       "    <tr>\n",
       "      <td>3</td>\n",
       "      <td>5498311</td>\n",
       "      <td>Peziza phlebospora (Le Gal) Donadini</td>\n",
       "      <td>5498311.0</td>\n",
       "      <td>Peziza phlebospora (Le Gal) Donadini</td>\n",
       "      <td>1</td>\n",
       "      <td>SPECIES</td>\n",
       "      <td>ACCEPTED</td>\n",
       "      <td>Fungi</td>\n",
       "      <td>5</td>\n",
       "      <td>Ascomycota</td>\n",
       "      <td>...</td>\n",
       "      <td>Pezizomycetes</td>\n",
       "      <td>316.0</td>\n",
       "      <td>Pezizales</td>\n",
       "      <td>1057.0</td>\n",
       "      <td>Pezizaceae</td>\n",
       "      <td>8399.0</td>\n",
       "      <td>Peziza</td>\n",
       "      <td>8766080.0</td>\n",
       "      <td>Peziza phlebospora</td>\n",
       "      <td>5498311.0</td>\n",
       "    </tr>\n",
       "    <tr>\n",
       "      <td>4</td>\n",
       "      <td>3595767</td>\n",
       "      <td>Cistus crispus L.</td>\n",
       "      <td>3595767.0</td>\n",
       "      <td>Cistus crispus L.</td>\n",
       "      <td>1</td>\n",
       "      <td>SPECIES</td>\n",
       "      <td>ACCEPTED</td>\n",
       "      <td>Plantae</td>\n",
       "      <td>6</td>\n",
       "      <td>Tracheophyta</td>\n",
       "      <td>...</td>\n",
       "      <td>Magnoliopsida</td>\n",
       "      <td>220.0</td>\n",
       "      <td>Malvales</td>\n",
       "      <td>941.0</td>\n",
       "      <td>Cistaceae</td>\n",
       "      <td>6635.0</td>\n",
       "      <td>Cistus</td>\n",
       "      <td>2874026.0</td>\n",
       "      <td>Cistus crispus</td>\n",
       "      <td>3595767.0</td>\n",
       "    </tr>\n",
       "  </tbody>\n",
       "</table>\n",
       "<p>5 rows × 21 columns</p>\n",
       "</div>"
      ],
      "text/plain": [
       "   taxonKey                        scientificName  acceptedTaxonKey  \\\n",
       "0   7247548           Usnea dasypoga (Ach.) Röhl.         7247548.0   \n",
       "1   3033131          Thalictrum aquilegifolium L.         3033131.0   \n",
       "2   2915121                Galium bernardii Gren.         7779137.0   \n",
       "3   5498311  Peziza phlebospora (Le Gal) Donadini         5498311.0   \n",
       "4   3595767                     Cistus crispus L.         3595767.0   \n",
       "\n",
       "                           acceptedScientificName  numberOfOccurrences  \\\n",
       "0                     Usnea dasypoga (Ach.) Röhl.                    1   \n",
       "1                    Thalictrum aquilegifolium L.                    5   \n",
       "2  Galium lucidum subsp. venustum (Jord.) Arcang.                    2   \n",
       "3            Peziza phlebospora (Le Gal) Donadini                    1   \n",
       "4                               Cistus crispus L.                    1   \n",
       "\n",
       "  taxonRank taxonomicStatus  kingdom  kingdomKey        phylum  ...  \\\n",
       "0   SPECIES        DOUBTFUL    Fungi           5    Ascomycota  ...   \n",
       "1   SPECIES        ACCEPTED  Plantae           6  Tracheophyta  ...   \n",
       "2   SPECIES         SYNONYM  Plantae           6  Tracheophyta  ...   \n",
       "3   SPECIES        ACCEPTED    Fungi           5    Ascomycota  ...   \n",
       "4   SPECIES        ACCEPTED  Plantae           6  Tracheophyta  ...   \n",
       "\n",
       "             class classKey         order orderKey         family familyKey  \\\n",
       "0  Lecanoromycetes    180.0   Lecanorales   1048.0   Parmeliaceae    8305.0   \n",
       "1    Magnoliopsida    220.0  Ranunculales    399.0  Ranunculaceae    2410.0   \n",
       "2    Magnoliopsida    220.0   Gentianales    412.0      Rubiaceae    8798.0   \n",
       "3    Pezizomycetes    316.0     Pezizales   1057.0     Pezizaceae    8399.0   \n",
       "4    Magnoliopsida    220.0      Malvales    941.0      Cistaceae    6635.0   \n",
       "\n",
       "        genus   genusKey                    species speciesKey  \n",
       "0       Usnea  2605982.0             Usnea dasypoga  7247548.0  \n",
       "1  Thalictrum  3033112.0  Thalictrum aquilegifolium  3033131.0  \n",
       "2      Galium  2913027.0             Galium lucidum  2913863.0  \n",
       "3      Peziza  8766080.0         Peziza phlebospora  5498311.0  \n",
       "4      Cistus  2874026.0             Cistus crispus  3595767.0  \n",
       "\n",
       "[5 rows x 21 columns]"
      ]
     },
     "execution_count": 15,
     "metadata": {},
     "output_type": "execute_result"
    }
   ],
   "source": [
    "data_it.head()"
   ]
  },
  {
   "cell_type": "code",
   "execution_count": 16,
   "metadata": {},
   "outputs": [],
   "source": [
    "## FILTERING TO KINGDOM AND NUMBER OF OCCURENCES\n",
    "\n",
    "data_it = data_it[['kingdom','numberOfOccurrences']]\n",
    "\n",
    "data_it = data_it.loc[data_it['kingdom'] != 'incertae sedis']"
   ]
  },
  {
   "cell_type": "code",
   "execution_count": 17,
   "metadata": {},
   "outputs": [
    {
     "data": {
      "text/plain": [
       "Animalia     7383\n",
       "Plantae      6676\n",
       "Fungi         897\n",
       "Chromista     286\n",
       "Protozoa      133\n",
       "Bacteria        4\n",
       "Name: kingdom, dtype: int64"
      ]
     },
     "execution_count": 17,
     "metadata": {},
     "output_type": "execute_result"
    }
   ],
   "source": [
    "data_it['kingdom'].value_counts()"
   ]
  },
  {
   "cell_type": "code",
   "execution_count": 18,
   "metadata": {},
   "outputs": [],
   "source": [
    "### NUMBER OF OCCURENCES FOR EACH KINGDOM IN IT\n",
    "\n",
    "platae_it = data_it[data_it['kingdom'] == 'Plantae']\n",
    "animalia_it = data_it[data_it['kingdom'] == 'Animalia']\n",
    "##\n",
    "fungi_it = data_it[data_it['kingdom'] == 'Fungi']\n",
    "chromista_it = data_it[data_it['kingdom'] == 'Chromista']\n",
    "bacteria_it = data_it[data_it['kingdom'] == 'Bacteria']\n",
    "protozoa_it = data_it[data_it['kingdom'] == 'Protozoa']"
   ]
  },
  {
   "cell_type": "code",
   "execution_count": 19,
   "metadata": {},
   "outputs": [],
   "source": [
    "### TOTAL OCCURENCES OF DIFERENT KINGDOMS IN ITALY \n",
    "\n",
    "group_it = data_it.groupby(data_it['kingdom']).count()"
   ]
  },
  {
   "cell_type": "code",
   "execution_count": 20,
   "metadata": {
    "scrolled": true
   },
   "outputs": [
    {
     "data": {
      "text/html": [
       "<div>\n",
       "<style scoped>\n",
       "    .dataframe tbody tr th:only-of-type {\n",
       "        vertical-align: middle;\n",
       "    }\n",
       "\n",
       "    .dataframe tbody tr th {\n",
       "        vertical-align: top;\n",
       "    }\n",
       "\n",
       "    .dataframe thead th {\n",
       "        text-align: right;\n",
       "    }\n",
       "</style>\n",
       "<table border=\"1\" class=\"dataframe\">\n",
       "  <thead>\n",
       "    <tr style=\"text-align: right;\">\n",
       "      <th></th>\n",
       "      <th>numberOfOccurrences</th>\n",
       "    </tr>\n",
       "    <tr>\n",
       "      <th>kingdom</th>\n",
       "      <th></th>\n",
       "    </tr>\n",
       "  </thead>\n",
       "  <tbody>\n",
       "    <tr>\n",
       "      <td>Animalia</td>\n",
       "      <td>7383</td>\n",
       "    </tr>\n",
       "    <tr>\n",
       "      <td>Bacteria</td>\n",
       "      <td>4</td>\n",
       "    </tr>\n",
       "    <tr>\n",
       "      <td>Chromista</td>\n",
       "      <td>286</td>\n",
       "    </tr>\n",
       "    <tr>\n",
       "      <td>Fungi</td>\n",
       "      <td>897</td>\n",
       "    </tr>\n",
       "    <tr>\n",
       "      <td>Plantae</td>\n",
       "      <td>6676</td>\n",
       "    </tr>\n",
       "    <tr>\n",
       "      <td>Protozoa</td>\n",
       "      <td>133</td>\n",
       "    </tr>\n",
       "  </tbody>\n",
       "</table>\n",
       "</div>"
      ],
      "text/plain": [
       "           numberOfOccurrences\n",
       "kingdom                       \n",
       "Animalia                  7383\n",
       "Bacteria                     4\n",
       "Chromista                  286\n",
       "Fungi                      897\n",
       "Plantae                   6676\n",
       "Protozoa                   133"
      ]
     },
     "execution_count": 20,
     "metadata": {},
     "output_type": "execute_result"
    }
   ],
   "source": [
    "group_it"
   ]
  },
  {
   "cell_type": "code",
   "execution_count": 21,
   "metadata": {},
   "outputs": [
    {
     "data": {
      "text/plain": [
       "['Animalia', 'Bacteria', 'Chromista', 'Fungi', 'Plantae', 'Protozoa']"
      ]
     },
     "execution_count": 21,
     "metadata": {},
     "output_type": "execute_result"
    }
   ],
   "source": [
    "list(group_it.index)\n",
    "\n"
   ]
  },
  {
   "cell_type": "code",
   "execution_count": 51,
   "metadata": {
    "scrolled": false
   },
   "outputs": [
    {
     "data": {
      "image/png": "[encoded data removed]",
      "text/plain": [
       "<Figure size 1440x720 with 2 Axes>"
      ]
     },
     "metadata": {
      "needs_background": "light"
     },
     "output_type": "display_data"
    }
   ],
   "source": [
    "# 1st \n",
    "\n",
    "### THERE IS A DIFERENCE BETWEEN THE DIFFERENT KINGDOMS Number of Ocurrences BETWEEN THE TWO COUNTRIES \n",
    "\n",
    "ind = list(group_it.index)\n",
    "\n",
    "fig, axs = plt.subplots(1, 1, figsize=(20, 10))\n",
    "\n",
    "ax = fig.add_axes([0,0,1,1])\n",
    "width = 0.35\n",
    "\n",
    "ax.bar(ind, group_pt['numberOfOccurrences'], width, color='r')\n",
    "ax.bar(ind, group_it['numberOfOccurrences'], width,bottom=group_pt['numberOfOccurrences'], color='b')\n",
    "ax.legend(['Portugal','Italy'])\n",
    "plt.title(\"Number of ocurrences for each Kingdom\")\n",
    "plt.savefig('Ocurrences_for_each_Kingdom.png')\n"
   ]
  },
  {
   "cell_type": "code",
   "execution_count": 28,
   "metadata": {},
   "outputs": [
    {
     "data": {
      "text/plain": [
       "Index(['Animalia', 'Bacteria', 'Chromista', 'Fungi', 'Plantae', 'Protozoa'], dtype='object', name='kingdom')"
      ]
     },
     "execution_count": 28,
     "metadata": {},
     "output_type": "execute_result"
    }
   ],
   "source": [
    "group_pt['numberOfOccurrences'].index"
   ]
  },
  {
   "cell_type": "code",
   "execution_count": 31,
   "metadata": {
    "scrolled": false
   },
   "outputs": [
    {
     "data": {
      "text/plain": [
       "<BarContainer object of 6 artists>"
      ]
     },
     "execution_count": 31,
     "metadata": {},
     "output_type": "execute_result"
    },
    {
     "data": {
      "image/png": "[encoded data removed]",
      "text/plain": [
       "<Figure size 432x288 with 1 Axes>"
      ]
     },
     "metadata": {
      "needs_background": "light"
     },
     "output_type": "display_data"
    }
   ],
   "source": [
    "\n",
    "X = np.arange(6)\n",
    "fig = plt.figure()\n",
    "ax = fig.add_axes([0,0,1,1])\n",
    "ax.bar(X + 0.00, group_pt['numberOfOccurrences'], color = 'r', width = 0.25)\n",
    "ax.bar(X + 0.25, group_it['numberOfOccurrences'], color = 'b', width = 0.25)\n",
    "\n"
   ]
  },
  {
   "cell_type": "markdown",
   "metadata": {},
   "source": [
    "# PLANTAE IN ITALY VS PLANTAE IN PORTUGAL ###"
   ]
  },
  {
   "cell_type": "code",
   "execution_count": 32,
   "metadata": {
    "scrolled": true
   },
   "outputs": [
    {
     "data": {
      "text/html": [
       "<div>\n",
       "<style scoped>\n",
       "    .dataframe tbody tr th:only-of-type {\n",
       "        vertical-align: middle;\n",
       "    }\n",
       "\n",
       "    .dataframe tbody tr th {\n",
       "        vertical-align: top;\n",
       "    }\n",
       "\n",
       "    .dataframe thead th {\n",
       "        text-align: right;\n",
       "    }\n",
       "</style>\n",
       "<table border=\"1\" class=\"dataframe\">\n",
       "  <thead>\n",
       "    <tr style=\"text-align: right;\">\n",
       "      <th></th>\n",
       "      <th>numberOfOccurrences</th>\n",
       "    </tr>\n",
       "  </thead>\n",
       "  <tbody>\n",
       "    <tr>\n",
       "      <td>count</td>\n",
       "      <td>6676.000000</td>\n",
       "    </tr>\n",
       "    <tr>\n",
       "      <td>mean</td>\n",
       "      <td>5.980527</td>\n",
       "    </tr>\n",
       "    <tr>\n",
       "      <td>std</td>\n",
       "      <td>39.135048</td>\n",
       "    </tr>\n",
       "    <tr>\n",
       "      <td>min</td>\n",
       "      <td>1.000000</td>\n",
       "    </tr>\n",
       "    <tr>\n",
       "      <td>25%</td>\n",
       "      <td>1.000000</td>\n",
       "    </tr>\n",
       "    <tr>\n",
       "      <td>50%</td>\n",
       "      <td>3.000000</td>\n",
       "    </tr>\n",
       "    <tr>\n",
       "      <td>75%</td>\n",
       "      <td>6.000000</td>\n",
       "    </tr>\n",
       "    <tr>\n",
       "      <td>max</td>\n",
       "      <td>2237.000000</td>\n",
       "    </tr>\n",
       "  </tbody>\n",
       "</table>\n",
       "</div>"
      ],
      "text/plain": [
       "       numberOfOccurrences\n",
       "count          6676.000000\n",
       "mean              5.980527\n",
       "std              39.135048\n",
       "min               1.000000\n",
       "25%               1.000000\n",
       "50%               3.000000\n",
       "75%               6.000000\n",
       "max            2237.000000"
      ]
     },
     "execution_count": 32,
     "metadata": {},
     "output_type": "execute_result"
    }
   ],
   "source": [
    "## Descriptive statistics \n",
    "\n",
    "platae_it.describe()"
   ]
  },
  {
   "cell_type": "code",
   "execution_count": 33,
   "metadata": {},
   "outputs": [
    {
     "data": {
      "text/plain": [
       "'\\nIt does not fit a Gaussian Model.\\n\\n'"
      ]
     },
     "execution_count": 33,
     "metadata": {},
     "output_type": "execute_result"
    }
   ],
   "source": [
    "\"\"\"\n",
    "It does not fit a Gaussian Model.\n",
    "\n",
    "\"\"\""
   ]
  },
  {
   "cell_type": "code",
   "execution_count": 34,
   "metadata": {},
   "outputs": [],
   "source": [
    "####"
   ]
  },
  {
   "cell_type": "code",
   "execution_count": 35,
   "metadata": {},
   "outputs": [],
   "source": [
    "###outliers from plantae in Italy\n",
    "\n",
    "q_low = platae_it[\"numberOfOccurrences\"].quantile(0.01)\n",
    "q_hi  = platae_it[\"numberOfOccurrences\"].quantile(0.99)\n",
    "\n"
   ]
  },
  {
   "cell_type": "code",
   "execution_count": 36,
   "metadata": {},
   "outputs": [],
   "source": [
    "#Removing outliers from plantae in Italy  \n",
    "\n",
    "q_low = platae_it[\"numberOfOccurrences\"].quantile(0.01)\n",
    "q_hi  = platae_it[\"numberOfOccurrences\"].quantile(0.99)\n",
    "\n",
    "platae_it_filtered = platae_it[(platae_it[\"numberOfOccurrences\"] < q_hi) & (platae_it[\"numberOfOccurrences\"] > q_low)]\n"
   ]
  },
  {
   "cell_type": "code",
   "execution_count": 37,
   "metadata": {},
   "outputs": [],
   "source": [
    "###outliers from plantae in Portugal\n",
    "\n",
    "q_low = platae_pt[\"numberOfOccurrences\"].quantile(0.01)\n",
    "q_hi  = platae_pt[\"numberOfOccurrences\"].quantile(0.99)\n",
    "\n",
    "\n"
   ]
  },
  {
   "cell_type": "code",
   "execution_count": 38,
   "metadata": {},
   "outputs": [],
   "source": [
    "#Removing outliers from plantae in Portugal  \n",
    "\n",
    "q_low = platae_pt[\"numberOfOccurrences\"].quantile(0.01)\n",
    "q_hi  = platae_pt[\"numberOfOccurrences\"].quantile(0.99)\n",
    "\n",
    "platae_pt_filtered = platae_pt[(platae_pt[\"numberOfOccurrences\"] < q_hi) & (platae_pt[\"numberOfOccurrences\"] > q_low)]\n",
    "\n"
   ]
  },
  {
   "cell_type": "code",
   "execution_count": 39,
   "metadata": {},
   "outputs": [
    {
     "data": {
      "text/plain": [
       "Ttest_indResult(statistic=3.239084090448369, pvalue=0.001204381482457467)"
      ]
     },
     "execution_count": 39,
     "metadata": {},
     "output_type": "execute_result"
    }
   ],
   "source": [
    "## compare plantae in italy agains plantae in Portugal \n",
    "\n",
    "## t-statistics \n",
    "\n",
    "## Significance level = 0.05\n",
    "\n",
    "\n",
    "ttest_ind(platae_pt_filtered['numberOfOccurrences'], platae_it_filtered['numberOfOccurrences'])"
   ]
  },
  {
   "cell_type": "code",
   "execution_count": 40,
   "metadata": {},
   "outputs": [
    {
     "data": {
      "text/plain": [
       "'\\nWE REJECT THE HYPOTESIS THAT THE TWO DISTRIBUTIONS ARE EQUAL, \\nSO THERE IS DIFERENCE BETWEEN THE PLANTAE IN PORTUGAL AND IN ITALLY\\nWITH A CONFIDENCE LEVEL OF 95%.\\n\\n'"
      ]
     },
     "execution_count": 40,
     "metadata": {},
     "output_type": "execute_result"
    }
   ],
   "source": [
    "\"\"\"\n",
    "WE REJECT THE HYPOTESIS THAT THE TWO DISTRIBUTIONS ARE EQUAL, \n",
    "SO THERE IS DIFERENCE BETWEEN THE PLANTAE IN PORTUGAL AND IN ITALLY\n",
    "WITH A CONFIDENCE LEVEL OF 95%.\n",
    "\n",
    "\"\"\""
   ]
  },
  {
   "cell_type": "code",
   "execution_count": 41,
   "metadata": {},
   "outputs": [],
   "source": [
    "# 1 ##### MODEL FIT ##### PLANTAE ITALY WITH GAUSS "
   ]
  },
  {
   "cell_type": "code",
   "execution_count": 42,
   "metadata": {
    "scrolled": false
   },
   "outputs": [
    {
     "data": {
      "text/plain": [
       "6.609857612267251"
      ]
     },
     "execution_count": 42,
     "metadata": {},
     "output_type": "execute_result"
    }
   ],
   "source": [
    "platae_it_filtered_mean = platae_it_filtered.mean()[0]\n",
    "platae_it_filtered_mean"
   ]
  },
  {
   "cell_type": "code",
   "execution_count": 43,
   "metadata": {},
   "outputs": [
    {
     "data": {
      "text/plain": [
       "39.13504797884314"
      ]
     },
     "execution_count": 43,
     "metadata": {},
     "output_type": "execute_result"
    }
   ],
   "source": [
    "platae_it_filtered_std = platae_it.std()[0]\n",
    "platae_it_filtered_std"
   ]
  },
  {
   "cell_type": "code",
   "execution_count": 44,
   "metadata": {
    "scrolled": true
   },
   "outputs": [
    {
     "data": {
      "text/plain": [
       "4565"
      ]
     },
     "execution_count": 44,
     "metadata": {},
     "output_type": "execute_result"
    }
   ],
   "source": [
    "platae_it_filtered.shape[0]"
   ]
  },
  {
   "cell_type": "code",
   "execution_count": 45,
   "metadata": {
    "scrolled": true
   },
   "outputs": [],
   "source": [
    "\n",
    "mean =platae_it_filtered_mean\n",
    "std = platae_it_filtered_std\n",
    "\n",
    "p_normal_it = norm.rvs(loc = mean, scale = std,size = platae_it_filtered.shape[0])\n",
    "#p_normal_it\n",
    "\n",
    "#plt.hist(normal1, bins =50)"
   ]
  },
  {
   "cell_type": "code",
   "execution_count": 46,
   "metadata": {},
   "outputs": [
    {
     "data": {
      "text/plain": [
       "Power_divergenceResult(statistic=-26192.20871208318, pvalue=1.0)"
      ]
     },
     "execution_count": 46,
     "metadata": {},
     "output_type": "execute_result"
    }
   ],
   "source": [
    "### Godness of fit for Plantae in Italy \n",
    "\n",
    "chisquare(platae_it_filtered['numberOfOccurrences'], f_exp = p_normal_it)\n",
    "\n"
   ]
  },
  {
   "cell_type": "code",
   "execution_count": null,
   "metadata": {},
   "outputs": [],
   "source": [
    "\"\"\"\n",
    "\n",
    "WE CANT REJECT THEY HAVE THE SAME DISTRIBUTION AS NORMAL ONE \n",
    "\"\"\""
   ]
  },
  {
   "cell_type": "code",
   "execution_count": 47,
   "metadata": {},
   "outputs": [],
   "source": [
    "# 2 ##### MODEL FIT ##### PLANTAE Portugal WITH GAUSS \n",
    "\n",
    "platae_pt_filtered_mean = platae_pt_filtered.mean()[0]\n",
    "\n",
    "platae_pt_filtered_std = platae_pt.std()[0]\n",
    "\n",
    "\n",
    "mean =platae_pt_filtered_mean\n",
    "std = platae_pt_filtered_std\n",
    "\n",
    "#Creating a normal distribution model ---- dont know who to create a geometric distribution ---- to do godness of fit \n",
    "# discret distribution \n",
    "\n",
    "\n",
    "p_normal_pt = norm.rvs(loc = mean, scale = std,size = platae_pt_filtered.shape[0])\n"
   ]
  },
  {
   "cell_type": "code",
   "execution_count": 221,
   "metadata": {
    "scrolled": true
   },
   "outputs": [
    {
     "data": {
      "text/plain": [
       "Power_divergenceResult(statistic=-7519.664272910245, pvalue=1.0)"
      ]
     },
     "execution_count": 221,
     "metadata": {},
     "output_type": "execute_result"
    }
   ],
   "source": [
    "chisquare(platae_pt_filtered['numberOfOccurrences'], f_exp = p_normal_pt)"
   ]
  },
  {
   "cell_type": "code",
   "execution_count": null,
   "metadata": {},
   "outputs": [],
   "source": [
    "\"\"\"\n",
    "\n",
    "WE CANT REJECT THEY HAVE THE SAME DISTRIBUTION AS NORMAL ONE \n",
    "\"\"\""
   ]
  },
  {
   "cell_type": "code",
   "execution_count": 190,
   "metadata": {
    "scrolled": true
   },
   "outputs": [],
   "source": [
    "## Plot the number of occurences IT and PT \n",
    "\n",
    "#### DO BETTER PLOTS HERE \n",
    "\n",
    "\n",
    "#platae_it_filtered['numberOfOccurrences'].sort_values().reset_index().drop(columns = 'index').hist()\n",
    "#platae_pt_filtered['numberOfOccurrences'].sort_values().reset_index().drop(columns = 'index').hist()"
   ]
  },
  {
   "cell_type": "markdown",
   "metadata": {},
   "source": [
    "# ANIMALIAIN ITALY VS PLANTAE IN PORTUGAL"
   ]
  },
  {
   "cell_type": "code",
   "execution_count": 152,
   "metadata": {},
   "outputs": [
    {
     "data": {
      "text/html": [
       "<div>\n",
       "<style scoped>\n",
       "    .dataframe tbody tr th:only-of-type {\n",
       "        vertical-align: middle;\n",
       "    }\n",
       "\n",
       "    .dataframe tbody tr th {\n",
       "        vertical-align: top;\n",
       "    }\n",
       "\n",
       "    .dataframe thead th {\n",
       "        text-align: right;\n",
       "    }\n",
       "</style>\n",
       "<table border=\"1\" class=\"dataframe\">\n",
       "  <thead>\n",
       "    <tr style=\"text-align: right;\">\n",
       "      <th></th>\n",
       "      <th>numberOfOccurrences</th>\n",
       "    </tr>\n",
       "  </thead>\n",
       "  <tbody>\n",
       "    <tr>\n",
       "      <td>count</td>\n",
       "      <td>7383.000000</td>\n",
       "    </tr>\n",
       "    <tr>\n",
       "      <td>mean</td>\n",
       "      <td>5.049438</td>\n",
       "    </tr>\n",
       "    <tr>\n",
       "      <td>std</td>\n",
       "      <td>10.052887</td>\n",
       "    </tr>\n",
       "    <tr>\n",
       "      <td>min</td>\n",
       "      <td>1.000000</td>\n",
       "    </tr>\n",
       "    <tr>\n",
       "      <td>25%</td>\n",
       "      <td>1.000000</td>\n",
       "    </tr>\n",
       "    <tr>\n",
       "      <td>50%</td>\n",
       "      <td>2.000000</td>\n",
       "    </tr>\n",
       "    <tr>\n",
       "      <td>75%</td>\n",
       "      <td>5.000000</td>\n",
       "    </tr>\n",
       "    <tr>\n",
       "      <td>max</td>\n",
       "      <td>198.000000</td>\n",
       "    </tr>\n",
       "  </tbody>\n",
       "</table>\n",
       "</div>"
      ],
      "text/plain": [
       "       numberOfOccurrences\n",
       "count          7383.000000\n",
       "mean              5.049438\n",
       "std              10.052887\n",
       "min               1.000000\n",
       "25%               1.000000\n",
       "50%               2.000000\n",
       "75%               5.000000\n",
       "max             198.000000"
      ]
     },
     "execution_count": 152,
     "metadata": {},
     "output_type": "execute_result"
    }
   ],
   "source": [
    "animalia_it.describe()"
   ]
  },
  {
   "cell_type": "code",
   "execution_count": 210,
   "metadata": {},
   "outputs": [],
   "source": [
    "###outliers for Animallia in Italy\n",
    "\n",
    "q_low = animalia_it[\"numberOfOccurrences\"].quantile(0.01)\n",
    "q_hi  = animalia_it[\"numberOfOccurrences\"].quantile(0.99)\n",
    "\n",
    "#Removing outliers from plantae in Portugal  \n",
    "\n",
    "q_low = animalia_it[\"numberOfOccurrences\"].quantile(0.01)\n",
    "q_hi  = animalia_it[\"numberOfOccurrences\"].quantile(0.99)\n",
    "\n",
    "animalia_it_filtered = animalia_it[(animalia_it[\"numberOfOccurrences\"] < q_hi) & (animalia_it[\"numberOfOccurrences\"] > q_low)]\n",
    "\n",
    "\n",
    "###outliers for Animallia in Portugal\n",
    "\n",
    "q_low = animalia_pt[\"numberOfOccurrences\"].quantile(0.01)\n",
    "q_hi  = animalia_pt[\"numberOfOccurrences\"].quantile(0.99)\n",
    "\n",
    "#Removing outliers from Animallia in Portugal  \n",
    "\n",
    "q_low = animalia_pt[\"numberOfOccurrences\"].quantile(0.01)\n",
    "q_hi  = animalia_pt[\"numberOfOccurrences\"].quantile(0.99)\n",
    "\n",
    "animalia_pt_filtered = animalia_pt[(animalia_pt[\"numberOfOccurrences\"] < q_hi) & (animalia_pt[\"numberOfOccurrences\"] > q_low)]\n",
    "\n",
    "\n",
    "\n"
   ]
  },
  {
   "cell_type": "code",
   "execution_count": 211,
   "metadata": {},
   "outputs": [
    {
     "data": {
      "text/plain": [
       "Ttest_indResult(statistic=11.2582562913861, pvalue=3.9058842290867343e-29)"
      ]
     },
     "execution_count": 211,
     "metadata": {},
     "output_type": "execute_result"
    }
   ],
   "source": [
    "## compare animalia in italy agains animalia in Portugal \n",
    "\n",
    "## t-statistics \n",
    "\n",
    "## Significance level = 0.05\n",
    "\n",
    "###  pt average higher \n",
    "ttest_ind(animalia_pt_filtered['numberOfOccurrences'], animalia_it_filtered['numberOfOccurrences'])"
   ]
  },
  {
   "cell_type": "code",
   "execution_count": 212,
   "metadata": {},
   "outputs": [
    {
     "data": {
      "text/plain": [
       "'\\nWE REJECT THE HYPOTESIS THAT THE TWO DISTRIBUTIONS ARE EQUAL, \\nSO THERE IS DIFERENCE BETWEEN THE ANIMALIA IN PORTUGAL AND IN ITALLY\\nWITH A CONFIDENCE LEVEL OF 95%.\\n\\n'"
      ]
     },
     "execution_count": 212,
     "metadata": {},
     "output_type": "execute_result"
    }
   ],
   "source": [
    "\"\"\"\n",
    "WE REJECT THE HYPOTESIS THAT THE TWO DISTRIBUTIONS ARE EQUAL, \n",
    "SO THERE IS DIFERENCE BETWEEN THE ANIMALIA IN PORTUGAL AND IN ITALLY\n",
    "WITH A CONFIDENCE LEVEL OF 95%.\n",
    "\n",
    "\"\"\""
   ]
  },
  {
   "cell_type": "code",
   "execution_count": 213,
   "metadata": {},
   "outputs": [
    {
     "data": {
      "text/plain": [
       "Power_divergenceResult(statistic=-113617.30045560672, pvalue=1.0)"
      ]
     },
     "execution_count": 213,
     "metadata": {},
     "output_type": "execute_result"
    }
   ],
   "source": [
    "##### MODEL FIT ##### ANIMALIA PORTUGAL WITH GAUSS \n",
    "\n",
    "\n",
    "animalia_pt_filtered_mean = animalia_pt_filtered.mean()[0]\n",
    "\n",
    "animalia_pt_filtered_std = animalia_pt_filtered.std()[0]\n",
    "\n",
    "mean =animalia_pt_filtered_mean\n",
    "std = animalia_pt_filtered_std\n",
    "\n",
    "a_normal_it = norm.rvs(loc = mean, scale = std,size = animalia_pt_filtered.shape[0])\n",
    "\n",
    "chisquare(animalia_pt_filtered['numberOfOccurrences'], f_exp = a_normal_it)\n"
   ]
  },
  {
   "cell_type": "code",
   "execution_count": null,
   "metadata": {},
   "outputs": [],
   "source": [
    "\"\"\"\n",
    "WE CANT REJECT THEY HAVE THE SAME DISTRIBUTION AS NORMAL ONE.\n",
    "There is diference in the animal kingdom between the two countries.\n",
    "\n",
    "\"\"\""
   ]
  },
  {
   "cell_type": "code",
   "execution_count": 218,
   "metadata": {},
   "outputs": [
    {
     "data": {
      "text/plain": [
       "array([[<matplotlib.axes._subplots.AxesSubplot object at 0x1a1d0a3550>]],\n",
       "      dtype=object)"
      ]
     },
     "execution_count": 218,
     "metadata": {},
     "output_type": "execute_result"
    },
    {
     "data": {
      "image/png": "[encoded data removed]",
      "text/plain": [
       "<Figure size 432x288 with 1 Axes>"
      ]
     },
     "metadata": {
      "needs_background": "light"
     },
     "output_type": "display_data"
    }
   ],
   "source": [
    "platae_it_filtered['numberOfOccurrences'].sort_values().reset_index().drop(columns = 'index').hist()"
   ]
  },
  {
   "cell_type": "code",
   "execution_count": null,
   "metadata": {},
   "outputs": [],
   "source": []
  },
  {
   "cell_type": "code",
   "execution_count": null,
   "metadata": {},
   "outputs": [],
   "source": []
  },
  {
   "cell_type": "code",
   "execution_count": null,
   "metadata": {},
   "outputs": [],
   "source": []
  },
  {
   "cell_type": "code",
   "execution_count": null,
   "metadata": {},
   "outputs": [],
   "source": []
  },
  {
   "cell_type": "code",
   "execution_count": null,
   "metadata": {},
   "outputs": [],
   "source": [
    "### betweeen 1990 and 2012 \n",
    "### average number of observation of living beings in portugal and in italy are identical \n"
   ]
  },
  {
   "cell_type": "code",
   "execution_count": 264,
   "metadata": {
    "scrolled": false
   },
   "outputs": [
    {
     "data": {
      "text/html": [
       "<div>\n",
       "<style scoped>\n",
       "    .dataframe tbody tr th:only-of-type {\n",
       "        vertical-align: middle;\n",
       "    }\n",
       "\n",
       "    .dataframe tbody tr th {\n",
       "        vertical-align: top;\n",
       "    }\n",
       "\n",
       "    .dataframe thead th {\n",
       "        text-align: right;\n",
       "    }\n",
       "</style>\n",
       "<table border=\"1\" class=\"dataframe\">\n",
       "  <thead>\n",
       "    <tr style=\"text-align: right;\">\n",
       "      <th></th>\n",
       "      <th>numberOfOccurrences</th>\n",
       "    </tr>\n",
       "  </thead>\n",
       "  <tbody>\n",
       "    <tr>\n",
       "      <td>0</td>\n",
       "      <td>2</td>\n",
       "    </tr>\n",
       "    <tr>\n",
       "      <td>1</td>\n",
       "      <td>2</td>\n",
       "    </tr>\n",
       "    <tr>\n",
       "      <td>2</td>\n",
       "      <td>2</td>\n",
       "    </tr>\n",
       "    <tr>\n",
       "      <td>3</td>\n",
       "      <td>2</td>\n",
       "    </tr>\n",
       "    <tr>\n",
       "      <td>4</td>\n",
       "      <td>2</td>\n",
       "    </tr>\n",
       "    <tr>\n",
       "      <td>...</td>\n",
       "      <td>...</td>\n",
       "    </tr>\n",
       "    <tr>\n",
       "      <td>4560</td>\n",
       "      <td>35</td>\n",
       "    </tr>\n",
       "    <tr>\n",
       "      <td>4561</td>\n",
       "      <td>35</td>\n",
       "    </tr>\n",
       "    <tr>\n",
       "      <td>4562</td>\n",
       "      <td>35</td>\n",
       "    </tr>\n",
       "    <tr>\n",
       "      <td>4563</td>\n",
       "      <td>35</td>\n",
       "    </tr>\n",
       "    <tr>\n",
       "      <td>4564</td>\n",
       "      <td>35</td>\n",
       "    </tr>\n",
       "  </tbody>\n",
       "</table>\n",
       "<p>4565 rows × 1 columns</p>\n",
       "</div>"
      ],
      "text/plain": [
       "      numberOfOccurrences\n",
       "0                       2\n",
       "1                       2\n",
       "2                       2\n",
       "3                       2\n",
       "4                       2\n",
       "...                   ...\n",
       "4560                   35\n",
       "4561                   35\n",
       "4562                   35\n",
       "4563                   35\n",
       "4564                   35\n",
       "\n",
       "[4565 rows x 1 columns]"
      ]
     },
     "execution_count": 264,
     "metadata": {},
     "output_type": "execute_result"
    }
   ],
   "source": [
    "platae_it_filtered_sort = platae_it_filtered['numberOfOccurrences'].sort_values().reset_index().drop(columns = 'index')\n",
    "platae_it_filtered_sort"
   ]
  },
  {
   "cell_type": "code",
   "execution_count": 280,
   "metadata": {},
   "outputs": [],
   "source": [
    "observed = platae_it_filtered_sort['numberOfOccurrences'].value_counts()"
   ]
  },
  {
   "cell_type": "code",
   "execution_count": 262,
   "metadata": {
    "scrolled": true
   },
   "outputs": [],
   "source": [
    "p = len(platae_it_filtered_sort.loc[platae_it_filtered_sort['numberOfOccurrences'] == 2])/len(x)"
   ]
  },
  {
   "cell_type": "code",
   "execution_count": 281,
   "metadata": {},
   "outputs": [
    {
     "data": {
      "text/plain": [
       "Power_divergenceResult(statistic=6913.431441073705, pvalue=0.0)"
      ]
     },
     "execution_count": 281,
     "metadata": {},
     "output_type": "execute_result"
    }
   ],
   "source": [
    "geometric = stats.geom(p)\n",
    "\n",
    "\n",
    "expected = [geometric.pmf(i+1)*len(x) for i in range(len(x['numberOfOccurrences'].value_counts()))]\n",
    "\n",
    "stats.chisquare(observed, expected)"
   ]
  }
 ],
 "metadata": {
  "kernelspec": {
   "display_name": "Python 3",
   "language": "python",
   "name": "python3"
  },
  "language_info": {
   "codemirror_mode": {
    "name": "ipython",
    "version": 3
   },
   "file_extension": ".py",
   "mimetype": "text/x-python",
   "name": "python",
   "nbconvert_exporter": "python",
   "pygments_lexer": "ipython3",
   "version": "3.7.4"
  }
 },
 "nbformat": 4,
 "nbformat_minor": 2
}
